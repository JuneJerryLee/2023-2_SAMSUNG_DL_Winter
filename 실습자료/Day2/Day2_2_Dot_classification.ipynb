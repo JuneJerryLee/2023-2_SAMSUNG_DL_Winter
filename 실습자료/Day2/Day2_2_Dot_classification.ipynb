{
  "nbformat": 4,
  "nbformat_minor": 0,
  "metadata": {
    "colab": {
      "provenance": []
    },
    "kernelspec": {
      "display_name": "Python 3",
      "language": "python",
      "name": "python3"
    },
    "language_info": {
      "codemirror_mode": {
        "name": "ipython",
        "version": 3
      },
      "file_extension": ".py",
      "mimetype": "text/x-python",
      "name": "python",
      "nbconvert_exporter": "python",
      "pygments_lexer": "ipython3",
      "version": "3.8.5"
    }
  },
  "cells": [
    {
      "cell_type": "code",
      "metadata": {
        "id": "d7U3b8FffmfV"
      },
      "source": [
        "import torch\n",
        "import numpy as np\n",
        "from sklearn.datasets import make_blobs\n",
        "import matplotlib.pyplot as plt"
      ],
      "execution_count": 1,
      "outputs": []
    },
    {
      "cell_type": "code",
      "source": [
        "import random\n",
        "\n",
        "random_seed = 42\n",
        "\n",
        "torch.manual_seed(random_seed)\n",
        "torch.cuda.manual_seed(random_seed)\n",
        "torch.backends.cudnn.deterministic = True\n",
        "torch.backends.cudnn.benchmark = False\n",
        "np.random.seed(random_seed)\n",
        "random.seed(random_seed)"
      ],
      "metadata": {
        "id": "DydNG9q4QFNf"
      },
      "execution_count": 2,
      "outputs": []
    },
    {
      "cell_type": "code",
      "metadata": {
        "id": "AcogT3YVfmfb"
      },
      "source": [
        "# https://scikit-learn.org/stable/modules/generated/sklearn.datasets.make_blobs.html\n",
        "\n",
        "n_dim = 2\n",
        "x_train, y_train = make_blobs(n_samples=80, n_features=n_dim,\n",
        "                              centers=[[0,0],[1,1],[1,0],[0,1]],\n",
        "                              shuffle=True, cluster_std=0.15)\n",
        "x_test, y_test = make_blobs(n_samples=20, n_features=n_dim,\n",
        "                            centers=[[0,0],[1,1],[1,0],[0,1]],\n",
        "                            shuffle=True, cluster_std=0.15)"
      ],
      "execution_count": 3,
      "outputs": []
    },
    {
      "cell_type": "code",
      "metadata": {
        "id": "dDBxQXrAip0_",
        "colab": {
          "base_uri": "https://localhost:8080/"
        },
        "outputId": "72610944-fca7-49a6-db68-29a5616e2487"
      },
      "source": [
        "# 15번째 sample까지만 print\n",
        "for i, x in enumerate(x_train):\n",
        "    print(x, y_train[i])\n",
        "    if i == 15 : break"
      ],
      "execution_count": 4,
      "outputs": [
        {
          "output_type": "stream",
          "name": "stdout",
          "text": [
            "[1.00903453 0.36948632] 2\n",
            "[1.01456163 0.14529675] 2\n",
            "[-0.08165741  0.01663839] 0\n",
            "[-0.09025599  0.27784173] 0\n",
            "[0.08802856 1.32856834] 3\n",
            "[ 0.01012923 -0.21371223] 0\n",
            "[1.13731032 0.04931267] 2\n",
            "[1.04441804 0.03915829] 2\n",
            "[-0.24112249  1.02769508] 3\n",
            "[1.01376412 0.70186466] 1\n",
            "[ 0.21984732 -0.03386645] 0\n",
            "[-0.15192467  0.0471371 ] 0\n",
            "[-0.18554261  0.80193151] 3\n",
            "[1.01305706 0.9551489 ] 1\n",
            "[ 1.22168411 -0.07774053] 2\n",
            "[ 0.71218432 -0.00397708] 2\n"
          ]
        }
      ]
    },
    {
      "cell_type": "code",
      "metadata": {
        "id": "6MzHbm-Hfmfc"
      },
      "source": [
        "# label 0, 1 -> 0으로 매핑\n",
        "# label 2, 3 -> 1로 매핑\n",
        "\n",
        "def label_map(y_, from_, to_):\n",
        "    y = np.copy(y_)\n",
        "    for f in from_:\n",
        "        y[y_ == f] = to_\n",
        "    return y\n",
        "\n",
        "y_train = label_map(y_train, [0, 1], 0)\n",
        "y_train = label_map(y_train, [2, 3], 1)\n",
        "y_test = label_map(y_test, [0, 1], 0)\n",
        "y_test = label_map(y_test, [2, 3], 1)"
      ],
      "execution_count": 5,
      "outputs": []
    },
    {
      "cell_type": "code",
      "source": [
        "y_train.max(), y_train.min()"
      ],
      "metadata": {
        "colab": {
          "base_uri": "https://localhost:8080/"
        },
        "id": "09dhHQnVKxt7",
        "outputId": "dcfa37b5-67a1-4b57-8e23-747787792d59"
      },
      "execution_count": 6,
      "outputs": [
        {
          "output_type": "execute_result",
          "data": {
            "text/plain": [
              "(1, 0)"
            ]
          },
          "metadata": {},
          "execution_count": 6
        }
      ]
    },
    {
      "cell_type": "code",
      "metadata": {
        "id": "mP8zxnsbfmfc",
        "colab": {
          "base_uri": "https://localhost:8080/",
          "height": 435
        },
        "outputId": "4f16d30f-2a57-4ae2-888d-4f2e6325428a"
      },
      "source": [
        "def vis_data(x,y = None, c = 'r'):\n",
        "    if y is None:\n",
        "        y = [None] * len(x)\n",
        "    for x_, y_ in zip(x,y):\n",
        "        if y_ is None:\n",
        "            plt.plot(x_[0], x_[1], '*',markerfacecolor='none', markeredgecolor=c)\n",
        "        else:\n",
        "            plt.plot(x_[0], x_[1], c+'o' if y_ == 0 else c+'+')\n",
        "\n",
        "plt.figure()\n",
        "vis_data(x_train, y_train, c='r')\n",
        "plt.plot([-1, 2], [0,0], linestyle = \":\", color = 'k')\n",
        "plt.plot([-1, 2], [1,1], linestyle = \":\", color = 'k')\n",
        "plt.plot([0, 0], [-1, 2], linestyle = \":\", color = 'k')\n",
        "plt.plot([1, 1], [-1,2], linestyle = \":\", color = 'k')\n",
        "\n",
        "plt.xlim([-0.5, 1.5])\n",
        "plt.ylim([-0.5, 1.5])\n",
        "plt.show()"
      ],
      "execution_count": 7,
      "outputs": [
        {
          "output_type": "display_data",
          "data": {
            "text/plain": [
              "<Figure size 640x480 with 1 Axes>"
            ],
            "image/png": "[encoded data removed]"
          },
          "metadata": {}
        }
      ]
    },
    {
      "cell_type": "code",
      "metadata": {
        "id": "YYtvQfymfmfe",
        "colab": {
          "base_uri": "https://localhost:8080/"
        },
        "outputId": "3ac9e88a-dbe4-4119-9eae-79a7e2971d1a"
      },
      "source": [
        "x_train = torch.FloatTensor(x_train)\n",
        "print(x_train.shape)\n",
        "print(y_train.shape)\n",
        "x_test = torch.FloatTensor(x_test)\n",
        "y_train = torch.FloatTensor(y_train)\n",
        "y_test = torch.FloatTensor(y_test)"
      ],
      "execution_count": 8,
      "outputs": [
        {
          "output_type": "stream",
          "name": "stdout",
          "text": [
            "torch.Size([80, 2])\n",
            "(80,)\n"
          ]
        }
      ]
    },
    {
      "cell_type": "code",
      "source": [
        "y_test.shape"
      ],
      "metadata": {
        "colab": {
          "base_uri": "https://localhost:8080/"
        },
        "id": "nyYXHp-XR9SJ",
        "outputId": "8ea26859-5832-4009-e1cb-4dfeb5b9401e"
      },
      "execution_count": 9,
      "outputs": [
        {
          "output_type": "execute_result",
          "data": {
            "text/plain": [
              "torch.Size([20])"
            ]
          },
          "metadata": {},
          "execution_count": 9
        }
      ]
    },
    {
      "cell_type": "markdown",
      "source": [
        "# Model"
      ],
      "metadata": {
        "id": "wvPukhtdSE_w"
      }
    },
    {
      "cell_type": "code",
      "metadata": {
        "id": "CIUKBGnbfmff"
      },
      "source": [
        "class NeuralNet(torch.nn.Module):\n",
        "        def __init__(self, input_size, hidden_size):\n",
        "            super(NeuralNet, self).__init__() # NeuralNet(자식 클래스)이 상속받는 torch.nn.Module(부모 클래스)을 우리의 NeuralNet에 불러오겠다는 의미\n",
        "            self.input_size = input_size      # init 시 self.를 앞에 붙여줘야 함.\n",
        "            self.hidden_size  = hidden_size\n",
        "\n",
        "            self.linear_1 = torch.nn.Linear(self.input_size, self.hidden_size)\n",
        "            self.relu = torch.nn.ReLU()\n",
        "            ### 수정 ###\n",
        "            # self.linear_2 = torch.nn.Linear(self.hidden_size, self.hidden_size)\n",
        "            ############\n",
        "            self.linear_last = torch.nn.Linear(self.hidden_size, 1)   # Binary Classification(classes: 2)\n",
        "            self.sigmoid = torch.nn.Sigmoid()                         # 0~1\n",
        "\n",
        "        def forward(self, input_tensor):\n",
        "            x = self.linear_1(input_tensor)\n",
        "            x = self.relu(x)\n",
        "            x = self.linear_last(x)\n",
        "            output = self.sigmoid(x)\n",
        "            return output"
      ],
      "execution_count": 10,
      "outputs": []
    },
    {
      "cell_type": "code",
      "metadata": {
        "id": "U4iWUny1fmff"
      },
      "source": [
        "learning_rate = 0.01\n",
        "epochs = 2000\n",
        "hidden_size = 5\n",
        "\n",
        "### Model Initialize ###\n",
        "model = NeuralNet(2, hidden_size)   # (Input size, Hidden size)\n",
        "\n",
        "criterion = torch.nn.BCELoss()  # Binary Cross-Entropy\n",
        "# torch.nn.CrossEntropyLoss()\n",
        "\n",
        "optimizer = torch.optim.SGD(model.parameters(), lr = learning_rate) # Stochastic Gradient Descent"
      ],
      "execution_count": 11,
      "outputs": []
    },
    {
      "cell_type": "code",
      "source": [
        "# print(model)"
      ],
      "metadata": {
        "id": "Wf7pnovZzg1X"
      },
      "execution_count": 12,
      "outputs": []
    },
    {
      "cell_type": "code",
      "metadata": {
        "id": "FcjfUFD8fmff",
        "colab": {
          "base_uri": "https://localhost:8080/"
        },
        "outputId": "5947b476-95d3-4cba-ae4b-a7ee88d54c75"
      },
      "source": [
        "model.eval() # Gradient Backpropagation(역전파)를 중지 -> Validation 및 Test 시에 사용\n",
        "\n",
        "test_loss_before = criterion(model(x_test).squeeze(), y_test)\n",
        "print('Before Training, test loss is {}'.format(test_loss_before.item()))"
      ],
      "execution_count": 13,
      "outputs": [
        {
          "output_type": "stream",
          "name": "stdout",
          "text": [
            "Before Training, test loss is 0.69706791639328\n"
          ]
        }
      ]
    },
    {
      "cell_type": "code",
      "source": [
        "print(model(x_test).shape)\n",
        "print(model(x_test).squeeze().shape)"
      ],
      "metadata": {
        "colab": {
          "base_uri": "https://localhost:8080/"
        },
        "id": "IR46HtlkWzdk",
        "outputId": "30b35387-be4d-461d-8364-19700d61ecf3"
      },
      "execution_count": 14,
      "outputs": [
        {
          "output_type": "stream",
          "name": "stdout",
          "text": [
            "torch.Size([20, 1])\n",
            "torch.Size([20])\n"
          ]
        }
      ]
    },
    {
      "cell_type": "code",
      "metadata": {
        "id": "sk7Y9iEltVeS"
      },
      "source": [
        "# 한 번 학습(1 epoch)\n",
        "model.train()   # Gradient Update 실행.\n",
        "optimizer.zero_grad()   # Gradient를 0으로 초기화\n",
        "train_output = model(x_train)\n",
        "train_loss = criterion(train_output.squeeze(), y_train)\n",
        "train_loss.backward() # Backpropagation\n",
        "optimizer.step()"
      ],
      "execution_count": 15,
      "outputs": []
    },
    {
      "cell_type": "code",
      "metadata": {
        "id": "YfPevo3Sfmfg",
        "colab": {
          "base_uri": "https://localhost:8080/"
        },
        "outputId": "c3451680-ac30-42c8-a8ec-cd10d6af9e71"
      },
      "source": [
        "train_losses = []\n",
        "\n",
        "for epoch in range(epochs):\n",
        "    model.train()\n",
        "    optimizer.zero_grad()\n",
        "    train_output = model(x_train)\n",
        "    train_loss = criterion(train_output.squeeze(), y_train)\n",
        "    if epoch % 100 == 0:\n",
        "        print('Train loss at {} is {}'.format(epoch, train_loss.item()))\n",
        "        train_losses.append(train_loss.item())\n",
        "        torch.save(model.state_dict(), './model_epoch{}.pt'.format(epoch))\n",
        "    train_loss.backward()\n",
        "    optimizer.step()"
      ],
      "execution_count": 16,
      "outputs": [
        {
          "output_type": "stream",
          "name": "stdout",
          "text": [
            "Train loss at 0 is 0.6960088014602661\n",
            "Train loss at 100 is 0.6897729635238647\n",
            "Train loss at 200 is 0.6835647821426392\n",
            "Train loss at 300 is 0.6768510937690735\n",
            "Train loss at 400 is 0.6687192320823669\n",
            "Train loss at 500 is 0.6592322587966919\n",
            "Train loss at 600 is 0.6482009887695312\n",
            "Train loss at 700 is 0.6366168260574341\n",
            "Train loss at 800 is 0.6247779130935669\n",
            "Train loss at 900 is 0.6133040189743042\n",
            "Train loss at 1000 is 0.6014286875724792\n",
            "Train loss at 1100 is 0.5887228846549988\n",
            "Train loss at 1200 is 0.5750950574874878\n",
            "Train loss at 1300 is 0.5605222582817078\n",
            "Train loss at 1400 is 0.5450378656387329\n",
            "Train loss at 1500 is 0.5288383960723877\n",
            "Train loss at 1600 is 0.5118974447250366\n",
            "Train loss at 1700 is 0.4943598806858063\n",
            "Train loss at 1800 is 0.47657495737075806\n",
            "Train loss at 1900 is 0.45851749181747437\n"
          ]
        }
      ]
    },
    {
      "cell_type": "code",
      "source": [
        "# train loss 그래프\n",
        "\n",
        "plt.plot(train_losses)\n",
        "plt.title('Train Loss')\n",
        "plt.show()"
      ],
      "metadata": {
        "colab": {
          "base_uri": "https://localhost:8080/",
          "height": 452
        },
        "id": "MvgAnMCU7Zr1",
        "outputId": "b6ff0b71-7cb2-4a82-a955-21423b1e4b8e"
      },
      "execution_count": 17,
      "outputs": [
        {
          "output_type": "display_data",
          "data": {
            "text/plain": [
              "<Figure size 640x480 with 1 Axes>"
            ],
            "image/png": "[encoded data removed]"
          },
          "metadata": {}
        }
      ]
    },
    {
      "cell_type": "code",
      "metadata": {
        "id": "bqQLXlsefmfg",
        "colab": {
          "base_uri": "https://localhost:8080/"
        },
        "outputId": "513f5148-c403-4d50-a3a7-7f77214d0748"
      },
      "source": [
        "model.eval()\n",
        "test_loss = criterion(model(x_test).squeeze(), y_test)\n",
        "print('After Training, test loss is {}'.format(test_loss.item()))"
      ],
      "execution_count": 18,
      "outputs": [
        {
          "output_type": "stream",
          "name": "stdout",
          "text": [
            "After Training, test loss is 0.425701379776001\n"
          ]
        }
      ]
    },
    {
      "cell_type": "code",
      "metadata": {
        "id": "GIMYuQW5fmfg",
        "colab": {
          "base_uri": "https://localhost:8080/"
        },
        "outputId": "c59b63f2-b9f3-4767-e753-0f0917456214"
      },
      "source": [
        "torch.save(model.state_dict(), './model.pt')\n",
        "print('state_dict format of the model: {}'.format(model.state_dict()))"
      ],
      "execution_count": 19,
      "outputs": [
        {
          "output_type": "stream",
          "name": "stdout",
          "text": [
            "state_dict format of the model: OrderedDict([('linear_1.weight', tensor([[ 0.5425,  0.5859],\n",
            "        [-1.0864,  1.0596],\n",
            "        [-0.1540,  0.1458],\n",
            "        [-0.1942,  0.4085],\n",
            "        [ 1.1200, -1.0780]])), ('linear_1.bias', tensor([ 0.6351, -0.0524,  0.5188,  0.2581, -0.0227])), ('linear_last.weight', tensor([[-0.1745,  1.3992, -0.0353, -0.1210,  1.2870]])), ('linear_last.bias', tensor([-0.4150]))])\n"
          ]
        }
      ]
    },
    {
      "cell_type": "code",
      "metadata": {
        "id": "QN9bBKYDfmfh",
        "colab": {
          "base_uri": "https://localhost:8080/"
        },
        "outputId": "34599e75-5ece-45e7-a7bf-f485923a3e12"
      },
      "source": [
        "# 새로운 모델에 학습된 가중치 로드\n",
        "\n",
        "new_model = NeuralNet(2, hidden_size)\n",
        "\n",
        "new_model.load_state_dict(torch.load('./model.pt'))\n",
        "\n",
        "new_model.eval()\n",
        "print('벡터 [0, 1]이 레이블 1을 가질 확률은 {}'.format\\\n",
        "      (new_model(torch.FloatTensor([0,1])).item()))"
      ],
      "execution_count": 20,
      "outputs": [
        {
          "output_type": "stream",
          "name": "stdout",
          "text": [
            "벡터 [0, 1]이 레이블 1을 가질 확률은 0.6631218194961548\n"
          ]
        }
      ]
    },
    {
      "cell_type": "code",
      "metadata": {
        "id": "vxXvcsD_sMR5"
      },
      "source": [
        "def binary_acc(y_pred, y_test):\n",
        "    y_pred_tag = torch.round((y_pred)).squeeze()\n",
        "\n",
        "    correct_results_sum = (y_pred_tag == y_test).sum().float()\n",
        "    acc = correct_results_sum/y_test.shape[0]\n",
        "    acc = torch.round(acc * 100)\n",
        "\n",
        "    return acc"
      ],
      "execution_count": 21,
      "outputs": []
    },
    {
      "cell_type": "code",
      "metadata": {
        "id": "FF5561NFlknQ",
        "colab": {
          "base_uri": "https://localhost:8080/"
        },
        "outputId": "d98a6a32-ae36-44bb-ddc1-076978a1fc70"
      },
      "source": [
        "new_model.eval()\n",
        "print(torch.round(new_model(x_test)).squeeze())\n",
        "print(y_test)\n",
        "print(binary_acc(new_model(x_test), y_test))"
      ],
      "execution_count": 22,
      "outputs": [
        {
          "output_type": "stream",
          "name": "stdout",
          "text": [
            "tensor([0., 0., 1., 0., 1., 1., 1., 1., 0., 0., 1., 0., 0., 0., 1., 1., 0., 1.,\n",
            "        0., 1.], grad_fn=<SqueezeBackward0>)\n",
            "tensor([0., 0., 1., 0., 1., 1., 1., 1., 0., 0., 1., 0., 0., 0., 1., 1., 0., 1.,\n",
            "        0., 1.])\n",
            "tensor(100.)\n"
          ]
        }
      ]
    },
    {
      "cell_type": "code",
      "metadata": {
        "id": "bycGoSM6sqmc",
        "colab": {
          "base_uri": "https://localhost:8080/"
        },
        "outputId": "082a2989-d09f-45b5-97f4-39b96215d22b"
      },
      "source": [
        "# Train epoch마다 성능 평가\n",
        "\n",
        "for i in range(0,2000,100):\n",
        "    new_model = NeuralNet(2, hidden_size)\n",
        "    new_model.load_state_dict(torch.load('./model_epoch{}.pt'.format(i)))\n",
        "    new_model.eval()\n",
        "    print(\"======epoch : {} =======\".format(i))\n",
        "    print(binary_acc(new_model(x_test), y_test))"
      ],
      "execution_count": 23,
      "outputs": [
        {
          "output_type": "stream",
          "name": "stdout",
          "text": [
            "======epoch : 0 =======\n",
            "tensor(50.)\n",
            "======epoch : 100 =======\n",
            "tensor(50.)\n",
            "======epoch : 200 =======\n",
            "tensor(40.)\n",
            "======epoch : 300 =======\n",
            "tensor(65.)\n",
            "======epoch : 400 =======\n",
            "tensor(95.)\n",
            "======epoch : 500 =======\n",
            "tensor(100.)\n",
            "======epoch : 600 =======\n",
            "tensor(100.)\n",
            "======epoch : 700 =======\n",
            "tensor(100.)\n",
            "======epoch : 800 =======\n",
            "tensor(100.)\n",
            "======epoch : 900 =======\n",
            "tensor(100.)\n",
            "======epoch : 1000 =======\n",
            "tensor(100.)\n",
            "======epoch : 1100 =======\n",
            "tensor(100.)\n",
            "======epoch : 1200 =======\n",
            "tensor(100.)\n",
            "======epoch : 1300 =======\n",
            "tensor(100.)\n",
            "======epoch : 1400 =======\n",
            "tensor(100.)\n",
            "======epoch : 1500 =======\n",
            "tensor(100.)\n",
            "======epoch : 1600 =======\n",
            "tensor(100.)\n",
            "======epoch : 1700 =======\n",
            "tensor(100.)\n",
            "======epoch : 1800 =======\n",
            "tensor(100.)\n",
            "======epoch : 1900 =======\n",
            "tensor(100.)\n"
          ]
        }
      ]
    },
    {
      "cell_type": "code",
      "source": [],
      "metadata": {
        "id": "77ECBy92IlQV"
      },
      "execution_count": 23,
      "outputs": []
    }
  ]
}