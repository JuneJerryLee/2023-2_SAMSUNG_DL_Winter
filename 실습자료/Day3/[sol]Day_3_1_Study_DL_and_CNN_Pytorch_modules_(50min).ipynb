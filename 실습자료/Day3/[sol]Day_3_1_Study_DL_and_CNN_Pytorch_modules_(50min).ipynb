{
  "nbformat": 4,
  "nbformat_minor": 0,
  "metadata": {
    "colab": {
      "provenance": [],
      "toc_visible": true
    },
    "kernelspec": {
      "name": "python3",
      "display_name": "Python 3"
    },
    "language_info": {
      "name": "python"
    },
    "accelerator": "TPU"
  },
  "cells": [
    {
      "cell_type": "markdown",
      "metadata": {
        "id": "jm-_H-aDcJPV"
      },
      "source": [
        "# - LAB2 : Study CNN Pytorch modules (50min)\n",
        "#### LAB2 에서는 Deep Learning과 Convolution Neural Network과 관련한 Pytorch modules에 대해 실습을 할 계획입니다."
      ]
    },
    {
      "cell_type": "markdown",
      "metadata": {
        "id": "mGM_7D2Pv26U"
      },
      "source": [
        "![image.png](http://drive.google.com/uc?id=1xSFMz26Z14rldETZG4nXDPq_ZZKK2ISF)\n",
        "\n",
        "![image.png](http://drive.google.com/uc?id=13WyqK4RTceUmGKL6_Iwgz_2sShX2pVGC)\n",
        "\n",
        "![image.png](http://drive.google.com/uc?id=1eBPt8_ZfJrG-PrYMffXb_DpaPRutK9jh)\n",
        "\n",
        "![image.png](http://drive.google.com/uc?id=1PsSApUabTfSseQMH2vLyZKtx9fMJ6fA1)"
      ]
    },
    {
      "cell_type": "markdown",
      "metadata": {
        "id": "ClTdLPkKgvsS"
      },
      "source": [
        "## 1) nn.Conv2d (25min[Explain:5min/Excercise:8min/Explain:12min])\n",
        " : 2-dim 데이터에 하나의 Convolution layer를 생성\n",
        "##### 필요한 하이퍼파라미터를 설정하면 Convolution layer에 필요한 parameter weight를 자동으로 선언해준다.\n",
        "\n",
        "- [doc] (https://pytorch.org/docs/stable/generated/torch.nn.Conv2d.html)\n",
        "\n",
        "![image.png](http://drive.google.com/uc?id=1YX0AvzjTVFD38dhVZ2-bbv5gLEk9A8K8)\n",
        "![image.png](http://drive.google.com/uc?id=18ZaNZcwh4SOBSa8WmXtGgQM4iDi6q6F5)"
      ]
    },
    {
      "cell_type": "code",
      "metadata": {
        "id": "HdGyn7qivFhs"
      },
      "source": [
        "import torch\n",
        "import torch.nn as nn"
      ],
      "execution_count": 1,
      "outputs": []
    },
    {
      "cell_type": "markdown",
      "metadata": {
        "id": "0Z5xHGN9iUKp"
      },
      "source": [
        "### Example 1) kernel_size=3, stride=1, padding=0\n",
        "![image.png](http://drive.google.com/uc?id=1dvnKVDptCOD1VLtiiTztOB2Lp4SAkuOE)"
      ]
    },
    {
      "cell_type": "code",
      "metadata": {
        "colab": {
          "base_uri": "https://localhost:8080/"
        },
        "id": "M6Z5_4kBvF-m",
        "outputId": "372d6063-7339-471f-f9e1-4b783a1c1fe6"
      },
      "source": [
        "input = torch.ones(1,1,4,4)\n",
        "conv_layer = nn.Conv2d(in_channels=1, out_channels=1, kernel_size=3, stride=1, padding=0)\n",
        "output = conv_layer(input)\n",
        "print(output.shape)"
      ],
      "execution_count": 2,
      "outputs": [
        {
          "output_type": "stream",
          "name": "stdout",
          "text": [
            "torch.Size([1, 1, 2, 2])\n"
          ]
        }
      ]
    },
    {
      "cell_type": "markdown",
      "metadata": {
        "id": "WH69ollWmPTv"
      },
      "source": [
        "### Example 2) kernel_size=3, stride=2, padding=0\n",
        "![image.png](http://drive.google.com/uc?id=1SgTHZ4mGkQgaHmpVNi-IcHqP1pW5Crm0)"
      ]
    },
    {
      "cell_type": "code",
      "metadata": {
        "colab": {
          "base_uri": "https://localhost:8080/"
        },
        "id": "aagJ40kTvHCW",
        "outputId": "6ceebf70-fbb0-4eca-a5eb-544778cca10c"
      },
      "source": [
        "input = torch.ones(1,1,5,5)\n",
        "conv_layer = nn.Conv2d(in_channels=1, out_channels=1, kernel_size=3, stride=2, padding=0)\n",
        "output = conv_layer(input)\n",
        "print(output.shape)"
      ],
      "execution_count": 3,
      "outputs": [
        {
          "output_type": "stream",
          "name": "stdout",
          "text": [
            "torch.Size([1, 1, 2, 2])\n"
          ]
        }
      ]
    },
    {
      "cell_type": "markdown",
      "metadata": {
        "id": "ojKOdUH9mPbj"
      },
      "source": [
        "### Example 3) kernel_size=4, stride=1, padding=2\n",
        "![image.png](http://drive.google.com/uc?id=1jA5h5lM6mbMtRtBT8rRFacf6yQazmHzW)\n"
      ]
    },
    {
      "cell_type": "code",
      "metadata": {
        "colab": {
          "base_uri": "https://localhost:8080/"
        },
        "id": "XFf37HKxvP54",
        "outputId": "8ef8acf1-760b-4cd7-9a1e-09665ee6ea62"
      },
      "source": [
        "input = torch.ones(1,1,5,5)\n",
        "conv_layer = nn.Conv2d(in_channels=1, out_channels=1, kernel_size=4, stride=1, padding=2)\n",
        "output = conv_layer(input)\n",
        "print(output.shape)"
      ],
      "execution_count": 4,
      "outputs": [
        {
          "output_type": "stream",
          "name": "stdout",
          "text": [
            "torch.Size([1, 1, 6, 6])\n"
          ]
        }
      ]
    },
    {
      "cell_type": "markdown",
      "metadata": {
        "id": "UhM7g6qqmPiU"
      },
      "source": [
        "### Excercise 1) kernel_size=3, stride=2, padding=1\n",
        "![image.png](http://drive.google.com/uc?id=1uAgXHskAXGtdowxGKw99Dtw4n4f_X34s)\n"
      ]
    },
    {
      "cell_type": "code",
      "metadata": {
        "colab": {
          "base_uri": "https://localhost:8080/"
        },
        "id": "81nhcGmivU_f",
        "outputId": "becc7b74-3af0-4858-b1d6-31e9a47e3c86"
      },
      "source": [
        "input = torch.ones(1,1,6,6)\n",
        "########################################## Complete This Code~!\n",
        "conv_layer = nn.Conv2d(in_channels=1, out_channels=1, kernel_size=3, stride=2, padding=1)\n",
        "########################################## Complete This Code~!\n",
        "output = conv_layer(input)\n",
        "print(output.shape)"
      ],
      "execution_count": 5,
      "outputs": [
        {
          "output_type": "stream",
          "name": "stdout",
          "text": [
            "torch.Size([1, 1, 3, 3])\n"
          ]
        }
      ]
    },
    {
      "cell_type": "markdown",
      "metadata": {
        "id": "GoDsxDyLmPm1"
      },
      "source": [
        "### Excercise 2) kernel_size=3, stride=1, padding=1\n",
        "![image.png](http://drive.google.com/uc?id=1Q2WLIYER2T5h8Pri9diRs3J_Kmjb7MXo)\n"
      ]
    },
    {
      "cell_type": "code",
      "metadata": {
        "colab": {
          "base_uri": "https://localhost:8080/"
        },
        "id": "MQDSRygVvbbO",
        "outputId": "369f4132-6795-4f8a-ed57-5c12201e03b3"
      },
      "source": [
        "input = torch.ones(1,1,5,5)\n",
        "########################################## Complete This Code~!\n",
        "conv_layer = nn.Conv2d(in_channels=1, out_channels=1, kernel_size=3, stride=1, padding=1)\n",
        "########################################## Complete This Code~!\n",
        "output = conv_layer(input)\n",
        "print(output.shape)"
      ],
      "execution_count": 6,
      "outputs": [
        {
          "output_type": "stream",
          "name": "stdout",
          "text": [
            "torch.Size([1, 1, 5, 5])\n"
          ]
        }
      ]
    },
    {
      "cell_type": "markdown",
      "metadata": {
        "id": "1sBLs9zvmPrb"
      },
      "source": [
        "### Excercise 3) kernel_size=3, stride=2, padding=1\n",
        "![image.png](http://drive.google.com/uc?id=15MRDXon_68pySZHQy9wBqdbwp8HQNdv8)\n"
      ]
    },
    {
      "cell_type": "code",
      "metadata": {
        "colab": {
          "base_uri": "https://localhost:8080/"
        },
        "id": "9MMoLbYxvmhH",
        "outputId": "cc55c9fd-bef2-496e-a9f3-11ab95c97d3f"
      },
      "source": [
        "input = torch.ones(1,1,5,5)\n",
        "########################################## Complete This Code~!\n",
        "conv_layer = nn.Conv2d(in_channels=1, out_channels=1, kernel_size=3, stride=2, padding=1)\n",
        "########################################## Complete This Code~!\n",
        "output = conv_layer(input)\n",
        "print(output.shape)"
      ],
      "execution_count": 7,
      "outputs": [
        {
          "output_type": "stream",
          "name": "stdout",
          "text": [
            "torch.Size([1, 1, 3, 3])\n"
          ]
        }
      ]
    },
    {
      "cell_type": "markdown",
      "metadata": {
        "id": "VcLx4RdLmPyj"
      },
      "source": [
        "### Excercise 4) kernel_size=3, stride=1, padding=2\n",
        "![image.png](http://drive.google.com/uc?id=17yCuQSaW2Q0XUwwHG8tBvts15Y-U3we1)"
      ]
    },
    {
      "cell_type": "code",
      "metadata": {
        "id": "Rjoq0NZ2vsTX",
        "colab": {
          "base_uri": "https://localhost:8080/"
        },
        "outputId": "cb531b66-c2b7-43e3-dcfe-0c8f92e394ab"
      },
      "source": [
        "input = torch.ones(1,1,5,5)\n",
        "########################################## Complete This Code~!\n",
        "conv_layer = nn.Conv2d(in_channels=1, out_channels=1, kernel_size=3, stride=1, padding=2)\n",
        "########################################## Complete This Code~!\n",
        "output = conv_layer(input)\n",
        "print(output.shape)"
      ],
      "execution_count": 8,
      "outputs": [
        {
          "output_type": "stream",
          "name": "stdout",
          "text": [
            "torch.Size([1, 1, 7, 7])\n"
          ]
        }
      ]
    },
    {
      "cell_type": "markdown",
      "metadata": {
        "id": "jX23Ob3_wqvA"
      },
      "source": [
        "### Excercise 5) kernel_size=3, stride=2, padding=1\n",
        "![image.png](http://drive.google.com/uc?id=1fNZTyHOtHX0y7sFW-e6tx0qP8mrQ7wK8)"
      ]
    },
    {
      "cell_type": "code",
      "metadata": {
        "colab": {
          "base_uri": "https://localhost:8080/"
        },
        "id": "Q8-EEdMyw9wX",
        "outputId": "1d8014af-d2f3-46d1-d695-989c5aee7d22"
      },
      "source": [
        "input = torch.ones(1,3,5,5)\n",
        "########################################## Complete This Code~!\n",
        "conv_layer = nn.Conv2d(in_channels=3, out_channels=2, kernel_size=3, stride=2, padding=1)\n",
        "########################################## Complete This Code~!\n",
        "output = conv_layer(input)\n",
        "print(output.shape)"
      ],
      "execution_count": 9,
      "outputs": [
        {
          "output_type": "stream",
          "name": "stdout",
          "text": [
            "torch.Size([1, 2, 3, 3])\n"
          ]
        }
      ]
    },
    {
      "cell_type": "markdown",
      "metadata": {
        "id": "IH0meoGQyuLA"
      },
      "source": [
        "### Excercise 6) Input size=(7,7), kernel_size=3, stride=2, padding=0, Output size=?\n",
        "![image.png](http://drive.google.com/uc?id=1d9C1FkXHRwx86OfBZ2-1XrIVyak_skMG)"
      ]
    },
    {
      "cell_type": "code",
      "metadata": {
        "colab": {
          "base_uri": "https://localhost:8080/"
        },
        "id": "aos7P8uayt2H",
        "outputId": "d4cc6c2f-324b-40f7-8200-141c0b028088"
      },
      "source": [
        "input = torch.ones(1,1,6,6)\n",
        "########################################## Complete This Code~!\n",
        "conv_layer = nn.Conv2d(in_channels=1, out_channels=1, kernel_size=3, stride=2, padding=0)\n",
        "########################################## Complete This Code~!\n",
        "output = conv_layer(input)\n",
        "print(output.shape)"
      ],
      "execution_count": 10,
      "outputs": [
        {
          "output_type": "stream",
          "name": "stdout",
          "text": [
            "torch.Size([1, 1, 2, 2])\n"
          ]
        }
      ]
    },
    {
      "cell_type": "markdown",
      "metadata": {
        "id": "NRN2Lz0cdqD8"
      },
      "source": [
        "## < Convolution output feature map size 계산 > (15min[Explain:5miin/Excercise:5min/Explain:5min])\n",
        "![image.png](http://drive.google.com/uc?id=12reHf9xtapZrVBG4LlNbNGa37ZeFfUqk)\n",
        "![image.png](http://drive.google.com/uc?id=1iqd-9-hHgnc6Zz7kR6v9EMhLWrMmY07N)"
      ]
    },
    {
      "cell_type": "code",
      "metadata": {
        "colab": {
          "base_uri": "https://localhost:8080/"
        },
        "id": "-w3DKShN0dmP",
        "outputId": "ed2b8aa2-a60f-4b2c-c8c9-7d764a0e4d3b"
      },
      "source": [
        "# 예제 1)\n",
        "########################################## Complete This Code~!\n",
        "ans_1 = int( (227 - 11 + 2*0) / 4 + 1 )\n",
        "########################################## Complete This Code~!\n",
        "print(f'예제 1 정답 : {ans_1}') # 55\n",
        "\n",
        "# 예제 2)\n",
        "ans_2 = int( (64 - 7 + 2*0) / 2 + 1 )\n",
        "print(f'예제 2 정답 : {ans_2}') # 28.5 + 1 => 29\n",
        "\n",
        "# 예제 3)\n",
        "########################################## Complete This Code~!\n",
        "ans_3 = int( (32 - 5 + 2*2) / 1 + 1 )\n",
        "########################################## Complete This Code~!\n",
        "print(f'예제 3 정답 : {ans_3}') # 32\n",
        "\n",
        "# 예제 4)\n",
        "# <Height>\n",
        "ans_4_height = int( (32 - 5 + 2*0) / 1 + 1 )\n",
        "# <Width>\n",
        "ans_4_width = int( (64 - 5 + 2*0) / 1 + 1 )\n",
        "print(f'예제 4 정답 : ({ans_4_height}, {ans_4_width})') # (28, 60)\n",
        "\n",
        "# 예제 5)\n",
        "# <Height>\n",
        "########################################## Complete This Code~!\n",
        "ans_5_height = int( (64 - 3 + 2*1) / 1 + 1 )\n",
        "########################################## Complete This Code~!\n",
        "#<Width>\n",
        "########################################## Complete This Code~!\n",
        "ans_5_width = int( (32 - 3 + 2*1) / 1 + 1 )\n",
        "########################################## Complete This Code~!\n",
        "print(f'예제 5 정답 : ({ans_5_height}, {ans_5_width})') # (64, 32)"
      ],
      "execution_count": 11,
      "outputs": [
        {
          "output_type": "stream",
          "name": "stdout",
          "text": [
            "예제 1 정답 : 55\n",
            "예제 2 정답 : 29\n",
            "예제 3 정답 : 32\n",
            "예제 4 정답 : (28, 60)\n",
            "예제 5 정답 : (64, 32)\n"
          ]
        }
      ]
    },
    {
      "cell_type": "code",
      "metadata": {
        "colab": {
          "base_uri": "https://localhost:8080/"
        },
        "id": "yUqcnjUX2cnZ",
        "outputId": "8dc07000-287e-4028-a757-66f346bbc103"
      },
      "source": [
        "# 각 예제에 맞게 INPUT 값을 바꾸어 설정할 수 있습니다.\n",
        "INPUT_SIZE = (227,227)\n",
        "IN_CHANNELS = 3\n",
        "OUT_CHANNELS = 10\n",
        "KERNEL_SIZE = 11\n",
        "STRIDE = 4\n",
        "PADDING = 0\n",
        "\n",
        "input = torch.ones(1,IN_CHANNELS,INPUT_SIZE[0],INPUT_SIZE[1])\n",
        "func = nn.Conv2d(in_channels=IN_CHANNELS, out_channels=OUT_CHANNELS, kernel_size=KERNEL_SIZE, stride=STRIDE, padding=PADDING)\n",
        "output = func(input)\n",
        "print(output.shape)"
      ],
      "execution_count": 12,
      "outputs": [
        {
          "output_type": "stream",
          "name": "stdout",
          "text": [
            "torch.Size([1, 10, 55, 55])\n"
          ]
        }
      ]
    },
    {
      "cell_type": "markdown",
      "metadata": {
        "id": "MpZpQmjk1mYk"
      },
      "source": [
        "## 2) nn.MaxPool2d\n",
        "- [doc] (https://pytorch.org/docs/stable/generated/torch.nn.MaxPool2d.html)\n",
        "\n",
        "![image.png](http://drive.google.com/uc?id=1010fN_7lMHuxmda3_gdSxfbW36yTC6F5)\n",
        "![image.png](http://drive.google.com/uc?id=1D2e9iFzJZMPLxRYucC4LS2B44-a3dlQk)\n",
        "\n",
        "![image.png](http://drive.google.com/uc?id=1xEmoXL-lmanXO6eSYDEmq7_cyFB73dRF)"
      ]
    },
    {
      "cell_type": "code",
      "metadata": {
        "colab": {
          "base_uri": "https://localhost:8080/"
        },
        "id": "bVg1KI146VxQ",
        "outputId": "69888896-2b40-40e1-fd20-a5d6e5d50777"
      },
      "source": [
        "input = torch.tensor([[[1.,0.,2.,3.],[4.,6.,6.,8.],[3.,1.,1.,0.],[1.,2.,2.,4.]]])\n",
        "print(input)\n",
        "func = nn.MaxPool2d(kernel_size=2)\n",
        "output = func(input)\n",
        "print(output)"
      ],
      "execution_count": 13,
      "outputs": [
        {
          "output_type": "stream",
          "name": "stdout",
          "text": [
            "tensor([[[1., 0., 2., 3.],\n",
            "         [4., 6., 6., 8.],\n",
            "         [3., 1., 1., 0.],\n",
            "         [1., 2., 2., 4.]]])\n",
            "tensor([[[6., 8.],\n",
            "         [3., 4.]]])\n"
          ]
        }
      ]
    },
    {
      "cell_type": "markdown",
      "metadata": {
        "id": "SXJ3Ix0cxREJ"
      },
      "source": [
        "## 3) nn.AvgPool2d\n",
        "- [doc] (https://pytorch.org/docs/stable/generated/torch.nn.AvgPool2d.html)\n",
        "\n",
        "![image.png](http://drive.google.com/uc?id=1z4OjHBduieJQVJqquISgrsmVqlVlfgS1)\n",
        "![image.png](http://drive.google.com/uc?id=10U4Z4OGKSWQHeDMa-f9KRnUXhfGKhKnk)\n",
        "\n",
        "![image.png](http://drive.google.com/uc?id=1wg2vJ8t780P6l5EUw1oLF3QTSjZBse0a)\n"
      ]
    },
    {
      "cell_type": "code",
      "metadata": {
        "colab": {
          "base_uri": "https://localhost:8080/"
        },
        "id": "W4SBl9g3A3uM",
        "outputId": "ac49236f-410a-4f0d-e11a-b2d36f3f0f4c"
      },
      "source": [
        "input = torch.tensor([[[1.,0.,2.,3.],[4.,6.,6.,8.],[3.,1.,1.,0.],[1.,2.,2.,4.]]])\n",
        "print(input)\n",
        "func = nn.AvgPool2d(kernel_size=2)\n",
        "output = func(input)\n",
        "print(output)"
      ],
      "execution_count": 14,
      "outputs": [
        {
          "output_type": "stream",
          "name": "stdout",
          "text": [
            "tensor([[[1., 0., 2., 3.],\n",
            "         [4., 6., 6., 8.],\n",
            "         [3., 1., 1., 0.],\n",
            "         [1., 2., 2., 4.]]])\n",
            "tensor([[[2.7500, 4.7500],\n",
            "         [1.7500, 1.7500]]])\n"
          ]
        }
      ]
    },
    {
      "cell_type": "markdown",
      "metadata": {
        "id": "4KnKLq_H58kw"
      },
      "source": [
        "## 4) nn.AdaptiveAvgPool2d()\n",
        "- [doc] (https://pytorch.org/docs/stable/generated/torch.nn.AdaptiveAvgPool2d.html)\n",
        "\n",
        "![image.png](http://drive.google.com/uc?id=190yR-M7yTb6ZlILOi4J5RSrfLeh_iul8)\n",
        "\n",
        "![image.png](http://drive.google.com/uc?id=1KMgjceD4tsS67kUvAb1BYC29HXWJb0Hr)\n"
      ]
    },
    {
      "cell_type": "code",
      "metadata": {
        "colab": {
          "base_uri": "https://localhost:8080/"
        },
        "id": "rrqjmhhSA7yn",
        "outputId": "71532da5-220e-4b70-c5f2-472a38f1932c"
      },
      "source": [
        "input = torch.tensor([[[1.,0.,2.,3.],[4.,6.,6.,8.],[3.,1.,1.,0.],[1.,2.,2.,4.]]]) # shpae : [1,4,4]\n",
        "print(input)\n",
        "func = nn.AdaptiveAvgPool2d(1)\n",
        "output = func(input)\n",
        "print(output) # shape : [1,1,1]"
      ],
      "execution_count": 15,
      "outputs": [
        {
          "output_type": "stream",
          "name": "stdout",
          "text": [
            "tensor([[[1., 0., 2., 3.],\n",
            "         [4., 6., 6., 8.],\n",
            "         [3., 1., 1., 0.],\n",
            "         [1., 2., 2., 4.]]])\n",
            "tensor([[[2.7500]]])\n"
          ]
        }
      ]
    },
    {
      "cell_type": "code",
      "metadata": {
        "id": "iRdf0cDhdBf1",
        "colab": {
          "base_uri": "https://localhost:8080/"
        },
        "outputId": "44460ac1-4a33-4955-955e-04b6eed7e43e"
      },
      "source": [
        "input = torch.randn((1,3,4,4))\n",
        "print(input)\n",
        "func = nn.AdaptiveAvgPool2d(1)\n",
        "output = func(input)\n",
        "print(output) # shape : [1,3,1,1]"
      ],
      "execution_count": 16,
      "outputs": [
        {
          "output_type": "stream",
          "name": "stdout",
          "text": [
            "tensor([[[[-0.0479,  0.5508,  1.0672, -1.2961],\n",
            "          [-1.1490,  0.7418, -0.7881, -1.1547],\n",
            "          [-1.5051, -0.4061,  0.4558,  0.0376],\n",
            "          [ 0.5163, -0.3929,  2.5576,  1.7130]],\n",
            "\n",
            "         [[-0.8186, -0.0194,  0.5277, -1.2712],\n",
            "          [-0.2703, -0.2774,  1.1150,  0.6705],\n",
            "          [ 0.3643, -0.6488, -0.0753,  0.1264],\n",
            "          [-0.4194,  1.6817, -1.5009, -0.2688]],\n",
            "\n",
            "         [[-1.0084, -0.0788, -0.7556,  1.3349],\n",
            "          [ 1.1222,  0.2362,  1.5415, -1.1875],\n",
            "          [ 0.3524, -0.0167,  0.8296,  0.0453],\n",
            "          [ 0.4238,  0.0027, -0.3783, -0.3185]]]])\n",
            "tensor([[[[ 0.0563]],\n",
            "\n",
            "         [[-0.0678]],\n",
            "\n",
            "         [[ 0.1340]]]])\n"
          ]
        }
      ]
    },
    {
      "cell_type": "code",
      "metadata": {
        "id": "8R7JRuJhBOzz",
        "colab": {
          "base_uri": "https://localhost:8080/"
        },
        "outputId": "13ce371a-66ad-42ac-9404-32e1f2610e9b"
      },
      "source": [
        "input = torch.randn((1,3,1,1))\n",
        "print(input)\n",
        "func = nn.AdaptiveAvgPool2d(7)\n",
        "output = func(input)\n",
        "print(output) # shape : [1,3,7,7]"
      ],
      "execution_count": 17,
      "outputs": [
        {
          "output_type": "stream",
          "name": "stdout",
          "text": [
            "tensor([[[[ 0.6979]],\n",
            "\n",
            "         [[-0.2049]],\n",
            "\n",
            "         [[-0.7112]]]])\n",
            "tensor([[[[ 0.6979,  0.6979,  0.6979,  0.6979,  0.6979,  0.6979,  0.6979],\n",
            "          [ 0.6979,  0.6979,  0.6979,  0.6979,  0.6979,  0.6979,  0.6979],\n",
            "          [ 0.6979,  0.6979,  0.6979,  0.6979,  0.6979,  0.6979,  0.6979],\n",
            "          [ 0.6979,  0.6979,  0.6979,  0.6979,  0.6979,  0.6979,  0.6979],\n",
            "          [ 0.6979,  0.6979,  0.6979,  0.6979,  0.6979,  0.6979,  0.6979],\n",
            "          [ 0.6979,  0.6979,  0.6979,  0.6979,  0.6979,  0.6979,  0.6979],\n",
            "          [ 0.6979,  0.6979,  0.6979,  0.6979,  0.6979,  0.6979,  0.6979]],\n",
            "\n",
            "         [[-0.2049, -0.2049, -0.2049, -0.2049, -0.2049, -0.2049, -0.2049],\n",
            "          [-0.2049, -0.2049, -0.2049, -0.2049, -0.2049, -0.2049, -0.2049],\n",
            "          [-0.2049, -0.2049, -0.2049, -0.2049, -0.2049, -0.2049, -0.2049],\n",
            "          [-0.2049, -0.2049, -0.2049, -0.2049, -0.2049, -0.2049, -0.2049],\n",
            "          [-0.2049, -0.2049, -0.2049, -0.2049, -0.2049, -0.2049, -0.2049],\n",
            "          [-0.2049, -0.2049, -0.2049, -0.2049, -0.2049, -0.2049, -0.2049],\n",
            "          [-0.2049, -0.2049, -0.2049, -0.2049, -0.2049, -0.2049, -0.2049]],\n",
            "\n",
            "         [[-0.7112, -0.7112, -0.7112, -0.7112, -0.7112, -0.7112, -0.7112],\n",
            "          [-0.7112, -0.7112, -0.7112, -0.7112, -0.7112, -0.7112, -0.7112],\n",
            "          [-0.7112, -0.7112, -0.7112, -0.7112, -0.7112, -0.7112, -0.7112],\n",
            "          [-0.7112, -0.7112, -0.7112, -0.7112, -0.7112, -0.7112, -0.7112],\n",
            "          [-0.7112, -0.7112, -0.7112, -0.7112, -0.7112, -0.7112, -0.7112],\n",
            "          [-0.7112, -0.7112, -0.7112, -0.7112, -0.7112, -0.7112, -0.7112],\n",
            "          [-0.7112, -0.7112, -0.7112, -0.7112, -0.7112, -0.7112, -0.7112]]]])\n"
          ]
        }
      ]
    },
    {
      "cell_type": "code",
      "source": [],
      "metadata": {
        "id": "qByXDFtgXpq-"
      },
      "execution_count": 17,
      "outputs": []
    }
  ]
}