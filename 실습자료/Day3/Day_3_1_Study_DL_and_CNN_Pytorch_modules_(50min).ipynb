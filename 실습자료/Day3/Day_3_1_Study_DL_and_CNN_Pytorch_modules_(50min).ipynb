{
  "cells": [
    {
      "cell_type": "markdown",
      "metadata": {
        "id": "jm-_H-aDcJPV"
      },
      "source": [
        "# Day_3_1 Study CNN Pytorch modules\n",
        "- Deep Learning과 Convolution Neural Network과 관련한 Pytorch modules에 대해 실습"
      ]
    },
    {
      "cell_type": "markdown",
      "metadata": {
        "id": "mGM_7D2Pv26U"
      },
      "source": [
        "![image.png](http://drive.google.com/uc?id=1xSFMz26Z14rldETZG4nXDPq_ZZKK2ISF)\n",
        "\n",
        "![image.png](http://drive.google.com/uc?id=13WyqK4RTceUmGKL6_Iwgz_2sShX2pVGC)\n",
        "\n",
        "![image.png](http://drive.google.com/uc?id=1eBPt8_ZfJrG-PrYMffXb_DpaPRutK9jh)\n",
        "\n",
        "![image.png](http://drive.google.com/uc?id=1PsSApUabTfSseQMH2vLyZKtx9fMJ6fA1)"
      ]
    },
    {
      "cell_type": "markdown",
      "metadata": {
        "id": "ClTdLPkKgvsS"
      },
      "source": [
        "## 1) nn.Conv2d\n",
        "- 2-dim 데이터에 하나의 Convolution layer를 생성\n",
        "- 필요한 하이퍼파라미터를 설정하면 Convolution layer에 필요한 parameter weight를 자동으로 선언\n",
        "- `Conv2d(in_channels, out_channels, kernel_size, stride=1, padding=0, dilation=1, groups=1, bias=True, padding_mode='zeros')`\n",
        "### parameters\n",
        "  - in_channels: 입력 채널 수. 흑백 이미지일 경우 1, RGB 값을 가진 이미지일 경우 3\n",
        "  - out_channels: 출력 채널 수\n",
        "  - kernel_size: 커널 사이즈\n",
        "  - stride: stride 사이즈\n",
        "  - padding: padding 사이즈\n",
        "### shape\n",
        "1. Input tensor($N, C_{in}, H_{in}, W_{in}$)\n",
        " - $N$: batch의 크기\n",
        " - $C_{in}$ : `in_channerls`에 넣은 값과 일치해야 함.\n",
        " - $H_{in}$ : 2D input tensor의 높이\n",
        " - $ W_{in}$:  2D input tensor의 너비\n",
        "\n",
        "\n",
        "- [doc] (https://pytorch.org/docs/stable/generated/torch.nn.Conv2d.html)\n",
        "\n",
        "![image.png](http://drive.google.com/uc?id=18ZaNZcwh4SOBSa8WmXtGgQM4iDi6q6F5)"
      ]
    },
    {
      "cell_type": "code",
      "execution_count": 1,
      "metadata": {
        "id": "HdGyn7qivFhs"
      },
      "outputs": [],
      "source": [
        "import torch\n",
        "import torch.nn as nn"
      ]
    },
    {
      "cell_type": "markdown",
      "metadata": {
        "id": "0Z5xHGN9iUKp"
      },
      "source": [
        "### Example 1) kernel_size=3, stride=1, padding=0\n",
        "![image.png](http://drive.google.com/uc?id=1dvnKVDptCOD1VLtiiTztOB2Lp4SAkuOE)"
      ]
    },
    {
      "cell_type": "code",
      "execution_count": 2,
      "metadata": {
        "colab": {
          "base_uri": "https://localhost:8080/"
        },
        "id": "M6Z5_4kBvF-m",
        "outputId": "3188ef96-d9a6-4612-b5c6-2ae6d606356e"
      },
      "outputs": [
        {
          "output_type": "stream",
          "name": "stdout",
          "text": [
            "torch.Size([1, 1, 2, 2])\n"
          ]
        }
      ],
      "source": [
        "input = torch.ones(1,1,4,4)\n",
        "conv_layer = nn.Conv2d(in_channels=1, out_channels=1, kernel_size=3, stride=1, padding=0)\n",
        "output = conv_layer(input)\n",
        "print(output.shape)"
      ]
    },
    {
      "cell_type": "markdown",
      "metadata": {
        "id": "WH69ollWmPTv"
      },
      "source": [
        "### Example 2) kernel_size=3, stride=2, padding=0\n",
        "![image.png](http://drive.google.com/uc?id=1SgTHZ4mGkQgaHmpVNi-IcHqP1pW5Crm0)"
      ]
    },
    {
      "cell_type": "code",
      "execution_count": 3,
      "metadata": {
        "colab": {
          "base_uri": "https://localhost:8080/"
        },
        "id": "aagJ40kTvHCW",
        "outputId": "36347c1d-dd7f-4782-cdab-a29522929768"
      },
      "outputs": [
        {
          "output_type": "stream",
          "name": "stdout",
          "text": [
            "torch.Size([1, 1, 2, 2])\n"
          ]
        }
      ],
      "source": [
        "input = torch.ones(1,1,5,5)\n",
        "conv_layer = nn.Conv2d(in_channels=1, out_channels=1, kernel_size=3, stride=2, padding=0)\n",
        "output = conv_layer(input)\n",
        "print(output.shape)"
      ]
    },
    {
      "cell_type": "markdown",
      "metadata": {
        "id": "ojKOdUH9mPbj"
      },
      "source": [
        "### Example 3) kernel_size=4, stride=1, padding=2\n",
        "![image.png](http://drive.google.com/uc?id=1jA5h5lM6mbMtRtBT8rRFacf6yQazmHzW)\n"
      ]
    },
    {
      "cell_type": "code",
      "execution_count": 4,
      "metadata": {
        "colab": {
          "base_uri": "https://localhost:8080/"
        },
        "id": "XFf37HKxvP54",
        "outputId": "852dc64e-1ea3-4361-fd59-3ceab1768518"
      },
      "outputs": [
        {
          "output_type": "stream",
          "name": "stdout",
          "text": [
            "torch.Size([1, 1, 6, 6])\n"
          ]
        }
      ],
      "source": [
        "input = torch.ones(1,1,5,5)\n",
        "conv_layer = nn.Conv2d(in_channels=1, out_channels=1, kernel_size=4, stride=1, padding=2)\n",
        "output = conv_layer(input)\n",
        "print(output.shape)"
      ]
    },
    {
      "cell_type": "markdown",
      "metadata": {
        "id": "UhM7g6qqmPiU"
      },
      "source": [
        "### Excercise 1) kernel_size=?, stride=?, padding=?\n",
        "![image.png](http://drive.google.com/uc?id=1uAgXHskAXGtdowxGKw99Dtw4n4f_X34s)\n"
      ]
    },
    {
      "cell_type": "code",
      "execution_count": 5,
      "metadata": {
        "id": "81nhcGmivU_f",
        "colab": {
          "base_uri": "https://localhost:8080/"
        },
        "outputId": "2e25a834-71b4-4071-f6be-dbb720ea22b9"
      },
      "outputs": [
        {
          "output_type": "stream",
          "name": "stdout",
          "text": [
            "torch.Size([1, 1, 3, 3])\n"
          ]
        }
      ],
      "source": [
        "input = torch.ones(1,1,6,6)\n",
        "########################################## Complete This Code~!\n",
        "conv_layer = nn.Conv2d(in_channels=1, out_channels=1, kernel_size=3, stride=2, padding=1)\n",
        "########################################## Complete This Code~!\n",
        "output = conv_layer(input)\n",
        "print(output.shape)"
      ]
    },
    {
      "cell_type": "markdown",
      "metadata": {
        "id": "GoDsxDyLmPm1"
      },
      "source": [
        "### Excercise 2) kernel_size=?, stride=?, padding=?\n",
        "![image.png](http://drive.google.com/uc?id=1Q2WLIYER2T5h8Pri9diRs3J_Kmjb7MXo)\n"
      ]
    },
    {
      "cell_type": "code",
      "execution_count": 6,
      "metadata": {
        "id": "MQDSRygVvbbO",
        "colab": {
          "base_uri": "https://localhost:8080/"
        },
        "outputId": "0e5400d0-7a8f-4a4c-d960-9739acb2688f"
      },
      "outputs": [
        {
          "output_type": "stream",
          "name": "stdout",
          "text": [
            "torch.Size([1, 1, 5, 5])\n"
          ]
        }
      ],
      "source": [
        "input = torch.ones(1,1,5,5)\n",
        "########################################## Complete This Code~!\n",
        "conv_layer = nn.Conv2d(in_channels=1, out_channels=1, kernel_size=3, stride=1, padding=1)\n",
        "########################################## Complete This Code~!\n",
        "output = conv_layer(input)\n",
        "print(output.shape)"
      ]
    },
    {
      "cell_type": "markdown",
      "metadata": {
        "id": "1sBLs9zvmPrb"
      },
      "source": [
        "### Excercise 3) kernel_size=?, stride=?, padding=?\n",
        "![image.png](http://drive.google.com/uc?id=15MRDXon_68pySZHQy9wBqdbwp8HQNdv8)\n"
      ]
    },
    {
      "cell_type": "code",
      "execution_count": 7,
      "metadata": {
        "id": "9MMoLbYxvmhH",
        "colab": {
          "base_uri": "https://localhost:8080/"
        },
        "outputId": "3c007e82-8c50-42af-fafa-fbb5c1d9737d"
      },
      "outputs": [
        {
          "output_type": "stream",
          "name": "stdout",
          "text": [
            "torch.Size([1, 1, 3, 3])\n"
          ]
        }
      ],
      "source": [
        "\n",
        "\n",
        "input = torch.ones(1,1,5,5)\n",
        "########################################## Complete This Code~!\n",
        "conv_layer = nn.Conv2d(in_channels=1, out_channels=1, kernel_size=3, stride=2, padding=1)\n",
        "########################################## Complete This Code~!\n",
        "output = conv_layer(input)\n",
        "print(output.shape)"
      ]
    },
    {
      "cell_type": "markdown",
      "metadata": {
        "id": "VcLx4RdLmPyj"
      },
      "source": [
        "### Excercise 4) kernel_size=?, stride=?, padding=?\n",
        "![image.png](http://drive.google.com/uc?id=17yCuQSaW2Q0XUwwHG8tBvts15Y-U3we1)"
      ]
    },
    {
      "cell_type": "code",
      "execution_count": 8,
      "metadata": {
        "id": "Rjoq0NZ2vsTX",
        "colab": {
          "base_uri": "https://localhost:8080/"
        },
        "outputId": "dea82aff-e37e-422a-e78d-ff5a0a4b0d6d"
      },
      "outputs": [
        {
          "output_type": "stream",
          "name": "stdout",
          "text": [
            "torch.Size([1, 1, 7, 7])\n"
          ]
        }
      ],
      "source": [
        "input = torch.ones(1,1,5,5)\n",
        "########################################## Complete This Code~!\n",
        "conv_layer = nn.Conv2d(in_channels=1, out_channels=1, kernel_size=3, stride=1, padding=2)\n",
        "########################################## Complete This Code~!\n",
        "output = conv_layer(input)\n",
        "print(output.shape)"
      ]
    },
    {
      "cell_type": "markdown",
      "metadata": {
        "id": "jX23Ob3_wqvA"
      },
      "source": [
        "### Excercise 5) kernel_size=?, stride=?, padding=?\n",
        "![image.png](http://drive.google.com/uc?id=1fNZTyHOtHX0y7sFW-e6tx0qP8mrQ7wK8)"
      ]
    },
    {
      "cell_type": "code",
      "execution_count": 9,
      "metadata": {
        "id": "Q8-EEdMyw9wX",
        "colab": {
          "base_uri": "https://localhost:8080/"
        },
        "outputId": "6f411ba7-5eb8-4d4c-fd1e-a1b45c76eff0"
      },
      "outputs": [
        {
          "output_type": "stream",
          "name": "stdout",
          "text": [
            "torch.Size([1, 2, 3, 3])\n"
          ]
        }
      ],
      "source": [
        "input = torch.ones(1,3,5,5)\n",
        "########################################## Complete This Code~!\n",
        "conv_layer = nn.Conv2d(in_channels=3, out_channels=2, kernel_size=3, stride=2, padding=1)\n",
        "########################################## Complete This Code~!\n",
        "output = conv_layer(input)\n",
        "print(output.shape)"
      ]
    },
    {
      "cell_type": "markdown",
      "metadata": {
        "id": "IH0meoGQyuLA"
      },
      "source": [
        "### Excercise 6) Input size=(7,7), kernel_size=3, stride=2, padding=0, Output size=?\n",
        "![image.png](http://drive.google.com/uc?id=1d9C1FkXHRwx86OfBZ2-1XrIVyak_skMG)"
      ]
    },
    {
      "cell_type": "code",
      "execution_count": 10,
      "metadata": {
        "id": "aos7P8uayt2H",
        "colab": {
          "base_uri": "https://localhost:8080/"
        },
        "outputId": "d18d8dd2-5bf7-4d25-dcfe-3d82f2c06b5d"
      },
      "outputs": [
        {
          "output_type": "stream",
          "name": "stdout",
          "text": [
            "torch.Size([1, 1, 2, 2])\n"
          ]
        }
      ],
      "source": [
        "input = torch.ones(1,1,6,6)\n",
        "########################################## Complete This Code~!\n",
        "conv_layer = nn.Conv2d(in_channels=1, out_channels=1, kernel_size=3, stride=2, padding=0)\n",
        "########################################## Complete This Code~!\n",
        "output = conv_layer(input)\n",
        "print(output.shape)"
      ]
    },
    {
      "cell_type": "markdown",
      "metadata": {
        "id": "NRN2Lz0cdqD8"
      },
      "source": [
        "## < Convolution output feature map size 계산 >\n",
        "![image.png](http://drive.google.com/uc?id=12reHf9xtapZrVBG4LlNbNGa37ZeFfUqk)\n",
        "![image.png](http://drive.google.com/uc?id=1iqd-9-hHgnc6Zz7kR6v9EMhLWrMmY07N)"
      ]
    },
    {
      "cell_type": "code",
      "execution_count": 11,
      "metadata": {
        "id": "-w3DKShN0dmP",
        "colab": {
          "base_uri": "https://localhost:8080/"
        },
        "outputId": "18f425d3-40f3-4b6b-8709-36c19dd418f1"
      },
      "outputs": [
        {
          "output_type": "stream",
          "name": "stdout",
          "text": [
            "예제 1 정답 : 55\n",
            "예제 2 정답 : 29\n",
            "예제 3 정답 : 32\n",
            "예제 4 정답 : (28, 60)\n",
            "예제 5 정답 : (64, 32)\n"
          ]
        }
      ],
      "source": [
        "# 예제 1)\n",
        "########################################## Complete This Code~!\n",
        "ans_1 = int( (227 - 11 + 2*0) / 4 + 1 )\n",
        "########################################## Complete This Code~!\n",
        "print(f'예제 1 정답 : {ans_1}')\n",
        "\n",
        "# 예제 2)\n",
        "ans_2 = int( (64 - 7 + 2*0) / 2 + 1 )\n",
        "print(f'예제 2 정답 : {ans_2}') # 28.5 + 1 => 29\n",
        "\n",
        "# 예제 3)\n",
        "########################################## Complete This Code~!\n",
        "ans_3 = int( (32 - 5 + 2*2) / 1 + 1 )\n",
        "########################################## Complete This Code~!\n",
        "print(f'예제 3 정답 : {ans_3}')\n",
        "\n",
        "# 예제 4)\n",
        "# <Height>\n",
        "ans_4_height = int( (32 - 5 + 2*0) / 1 + 1 )\n",
        "# <Width>\n",
        "ans_4_width = int( (64 - 5 + 2*0) / 1 + 1 )\n",
        "print(f'예제 4 정답 : ({ans_4_height}, {ans_4_width})') # (28, 60)\n",
        "\n",
        "# 예제 5)\n",
        "# <Height>\n",
        "########################################## Complete This Code~!\n",
        "ans_5_height = int((64 - 3 + 2 * 1) + 1)\n",
        "########################################## Complete This Code~!\n",
        "#<Width>\n",
        "########################################## Complete This Code~!\n",
        "ans_5_width = int((32 - 3 + 2 * 1) + 1)\n",
        "########################################## Complete This Code~!\n",
        "print(f'예제 5 정답 : ({ans_5_height}, {ans_5_width})')"
      ]
    },
    {
      "cell_type": "code",
      "execution_count": 12,
      "metadata": {
        "colab": {
          "base_uri": "https://localhost:8080/"
        },
        "id": "yUqcnjUX2cnZ",
        "outputId": "e94032e3-785d-40dd-820d-8f41058e9f60"
      },
      "outputs": [
        {
          "output_type": "stream",
          "name": "stdout",
          "text": [
            "torch.Size([1, 10, 55, 55])\n"
          ]
        }
      ],
      "source": [
        "# 각 예제에 맞게 INPUT 값을 바꾸어 설정할 수 있습니다.\n",
        "INPUT_SIZE = (227,227)\n",
        "IN_CHANNELS = 3\n",
        "OUT_CHANNELS = 10\n",
        "KERNEL_SIZE = 11\n",
        "STRIDE = 4\n",
        "PADDING = 0\n",
        "\n",
        "input = torch.ones(1,IN_CHANNELS,INPUT_SIZE[0],INPUT_SIZE[1])\n",
        "func = nn.Conv2d(in_channels=IN_CHANNELS, out_channels=OUT_CHANNELS, kernel_size=KERNEL_SIZE, stride=STRIDE, padding=PADDING)\n",
        "output = func(input)\n",
        "print(output.shape)"
      ]
    },
    {
      "cell_type": "markdown",
      "metadata": {
        "id": "MpZpQmjk1mYk"
      },
      "source": [
        "## 2) nn.MaxPool2d\n",
        "- [doc] (https://pytorch.org/docs/stable/generated/torch.nn.MaxPool2d.html)\n",
        "\n",
        "![image.png](http://drive.google.com/uc?id=1010fN_7lMHuxmda3_gdSxfbW36yTC6F5)\n",
        "![image.png](http://drive.google.com/uc?id=1D2e9iFzJZMPLxRYucC4LS2B44-a3dlQk)\n",
        "\n",
        "![image.png](http://drive.google.com/uc?id=1xEmoXL-lmanXO6eSYDEmq7_cyFB73dRF)"
      ]
    },
    {
      "cell_type": "code",
      "execution_count": 13,
      "metadata": {
        "colab": {
          "base_uri": "https://localhost:8080/"
        },
        "id": "bVg1KI146VxQ",
        "outputId": "226de787-b331-4006-f1d7-a63d80b0b4d3"
      },
      "outputs": [
        {
          "output_type": "stream",
          "name": "stdout",
          "text": [
            "tensor([[[1., 0., 2., 3.],\n",
            "         [4., 6., 6., 8.],\n",
            "         [3., 1., 1., 0.],\n",
            "         [1., 2., 2., 4.]]])\n"
          ]
        }
      ],
      "source": [
        "input = torch.tensor([[[1.,0.,2.,3.],[4.,6.,6.,8.],[3.,1.,1.,0.],[1.,2.,2.,4.]]])\n",
        "print(input)"
      ]
    },
    {
      "cell_type": "code",
      "source": [
        "func = nn.MaxPool2d(kernel_size=2)\n",
        "output = func(input)\n",
        "print(output)"
      ],
      "metadata": {
        "colab": {
          "base_uri": "https://localhost:8080/"
        },
        "id": "3mtpDpEek1yJ",
        "outputId": "a2c84e1f-2ba0-4356-aaa8-0bf65171d12e"
      },
      "execution_count": 14,
      "outputs": [
        {
          "output_type": "stream",
          "name": "stdout",
          "text": [
            "tensor([[[6., 8.],\n",
            "         [3., 4.]]])\n"
          ]
        }
      ]
    },
    {
      "cell_type": "markdown",
      "metadata": {
        "id": "SXJ3Ix0cxREJ"
      },
      "source": [
        "## 3) nn.AvgPool2d\n",
        "- [doc] (https://pytorch.org/docs/stable/generated/torch.nn.AvgPool2d.html)\n",
        "\n",
        "![image.png](http://drive.google.com/uc?id=1z4OjHBduieJQVJqquISgrsmVqlVlfgS1)\n",
        "![image.png](http://drive.google.com/uc?id=10U4Z4OGKSWQHeDMa-f9KRnUXhfGKhKnk)\n",
        "\n",
        "![image.png](http://drive.google.com/uc?id=1wg2vJ8t780P6l5EUw1oLF3QTSjZBse0a)\n"
      ]
    },
    {
      "cell_type": "code",
      "execution_count": 15,
      "metadata": {
        "colab": {
          "base_uri": "https://localhost:8080/"
        },
        "id": "W4SBl9g3A3uM",
        "outputId": "e70a0753-a8a6-435e-fa29-ac651e07b60d"
      },
      "outputs": [
        {
          "output_type": "stream",
          "name": "stdout",
          "text": [
            "tensor([[[1., 0., 2., 3.],\n",
            "         [4., 6., 6., 8.],\n",
            "         [3., 1., 1., 0.],\n",
            "         [1., 2., 2., 4.]]])\n"
          ]
        }
      ],
      "source": [
        "input = torch.tensor([[[1.,0.,2.,3.],[4.,6.,6.,8.],[3.,1.,1.,0.],[1.,2.,2.,4.]]])\n",
        "print(input)"
      ]
    },
    {
      "cell_type": "code",
      "source": [
        "func = nn.AvgPool2d(kernel_size=4)\n",
        "output = func(input)\n",
        "print(output)"
      ],
      "metadata": {
        "colab": {
          "base_uri": "https://localhost:8080/"
        },
        "id": "4klI2XAylFP7",
        "outputId": "bc1f1c7d-08e8-4779-c11e-0f701ad004b8"
      },
      "execution_count": 16,
      "outputs": [
        {
          "output_type": "stream",
          "name": "stdout",
          "text": [
            "tensor([[[2.7500]]])\n"
          ]
        }
      ]
    },
    {
      "cell_type": "markdown",
      "metadata": {
        "id": "4KnKLq_H58kw"
      },
      "source": [
        "## 4) nn.AdaptiveAvgPool2d()\n",
        "- kernel_size, stride, padding을 입력하는 대신에 output의 사이즈를 입력\n",
        "-  위의 식에 따라서 자동으로 kernel_size, stride, padding이 결정되어 pooling을 할 수 있음.\n",
        "- 즉, Average Pooling을 할 때, 출력 크기 조절하기가 상당히 쉬워짐\n",
        "\n",
        "- [doc] (https://pytorch.org/docs/stable/generated/torch.nn.AdaptiveAvgPool2d.html)\n",
        "\n",
        "![image.png](http://drive.google.com/uc?id=190yR-M7yTb6ZlILOi4J5RSrfLeh_iul8)\n",
        "\n",
        "![image.png](http://drive.google.com/uc?id=1KMgjceD4tsS67kUvAb1BYC29HXWJb0Hr)\n"
      ]
    },
    {
      "cell_type": "code",
      "execution_count": 17,
      "metadata": {
        "colab": {
          "base_uri": "https://localhost:8080/"
        },
        "id": "rrqjmhhSA7yn",
        "outputId": "94fd5dba-bbf8-4b3e-fe19-601226c405c3"
      },
      "outputs": [
        {
          "output_type": "stream",
          "name": "stdout",
          "text": [
            "tensor([[[1., 0., 2., 3.],\n",
            "         [4., 6., 6., 8.],\n",
            "         [3., 1., 1., 0.],\n",
            "         [1., 2., 2., 4.]]])\n"
          ]
        }
      ],
      "source": [
        "input = torch.tensor([[[1.,0.,2.,3.],[4.,6.,6.,8.],[3.,1.,1.,0.],[1.,2.,2.,4.]]]) # shpae : [1,4,4]\n",
        "print(input)"
      ]
    },
    {
      "cell_type": "code",
      "source": [
        "func = nn.AdaptiveAvgPool2d(1) # (1, 1)\n",
        "output = func(input)\n",
        "print(output) # shape : [1,1,1]"
      ],
      "metadata": {
        "colab": {
          "base_uri": "https://localhost:8080/"
        },
        "id": "cAHQ31iqljQu",
        "outputId": "9a1f1334-b9be-44a9-9447-23ba35cad750"
      },
      "execution_count": 18,
      "outputs": [
        {
          "output_type": "stream",
          "name": "stdout",
          "text": [
            "tensor([[[2.7500]]])\n"
          ]
        }
      ]
    },
    {
      "cell_type": "code",
      "execution_count": 19,
      "metadata": {
        "colab": {
          "base_uri": "https://localhost:8080/"
        },
        "id": "iRdf0cDhdBf1",
        "outputId": "5dbcb035-9aa2-40eb-f557-5f7eaf0c384d"
      },
      "outputs": [
        {
          "output_type": "stream",
          "name": "stdout",
          "text": [
            "tensor([[[[ 1.3303,  1.2775, -0.6692,  1.8393],\n",
            "          [-1.1082,  0.4654,  2.5273,  0.2901],\n",
            "          [ 0.2338,  0.3129, -0.9644,  1.0904],\n",
            "          [ 1.2694, -0.9081,  0.0344,  0.6271]],\n",
            "\n",
            "         [[ 1.6073,  0.7225, -0.7628, -0.6569],\n",
            "          [ 0.0733,  0.0755,  2.2070,  0.9038],\n",
            "          [-2.0146, -0.6650, -0.2965,  0.3387],\n",
            "          [-0.5523, -0.8011,  0.0403,  0.2335]],\n",
            "\n",
            "         [[-0.0650, -0.3144,  1.1845,  0.7462],\n",
            "          [-0.3355,  0.5643, -1.5725, -0.6280],\n",
            "          [-0.6495,  0.3732,  0.3369, -0.9877],\n",
            "          [ 0.9708, -1.0790, -0.8737, -0.5862]]]])\n"
          ]
        }
      ],
      "source": [
        "input = torch.randn((1,3,4,4))\n",
        "print(input)"
      ]
    },
    {
      "cell_type": "code",
      "source": [
        "func = nn.AdaptiveAvgPool2d(1)\n",
        "output = func(input)\n",
        "print(output) # shape : [1,3,1,1]"
      ],
      "metadata": {
        "colab": {
          "base_uri": "https://localhost:8080/"
        },
        "id": "eflFZt9ql10F",
        "outputId": "c9246bd4-4def-4d17-bb6b-a405ad029d54"
      },
      "execution_count": 20,
      "outputs": [
        {
          "output_type": "stream",
          "name": "stdout",
          "text": [
            "tensor([[[[ 0.4780]],\n",
            "\n",
            "         [[ 0.0283]],\n",
            "\n",
            "         [[-0.1822]]]])\n"
          ]
        }
      ]
    },
    {
      "cell_type": "code",
      "execution_count": 21,
      "metadata": {
        "colab": {
          "base_uri": "https://localhost:8080/"
        },
        "id": "8R7JRuJhBOzz",
        "outputId": "4999baa6-2114-4df6-d244-8d501a56cfb1"
      },
      "outputs": [
        {
          "output_type": "stream",
          "name": "stdout",
          "text": [
            "tensor([[[[ 0.8692]],\n",
            "\n",
            "         [[ 1.0536]],\n",
            "\n",
            "         [[-2.1466]]]])\n"
          ]
        }
      ],
      "source": [
        "input = torch.randn((1,3,1,1))\n",
        "print(input)"
      ]
    },
    {
      "cell_type": "code",
      "source": [
        "func = nn.AdaptiveAvgPool2d(7) # (7, 7)\n",
        "output = func(input)\n",
        "print(output) # shape : [1,3,7,7]"
      ],
      "metadata": {
        "colab": {
          "base_uri": "https://localhost:8080/"
        },
        "id": "dWSg0MM3mEZr",
        "outputId": "986984e5-835d-42e9-886a-45416f476ae7"
      },
      "execution_count": 22,
      "outputs": [
        {
          "output_type": "stream",
          "name": "stdout",
          "text": [
            "tensor([[[[ 0.8692,  0.8692,  0.8692,  0.8692,  0.8692,  0.8692,  0.8692],\n",
            "          [ 0.8692,  0.8692,  0.8692,  0.8692,  0.8692,  0.8692,  0.8692],\n",
            "          [ 0.8692,  0.8692,  0.8692,  0.8692,  0.8692,  0.8692,  0.8692],\n",
            "          [ 0.8692,  0.8692,  0.8692,  0.8692,  0.8692,  0.8692,  0.8692],\n",
            "          [ 0.8692,  0.8692,  0.8692,  0.8692,  0.8692,  0.8692,  0.8692],\n",
            "          [ 0.8692,  0.8692,  0.8692,  0.8692,  0.8692,  0.8692,  0.8692],\n",
            "          [ 0.8692,  0.8692,  0.8692,  0.8692,  0.8692,  0.8692,  0.8692]],\n",
            "\n",
            "         [[ 1.0536,  1.0536,  1.0536,  1.0536,  1.0536,  1.0536,  1.0536],\n",
            "          [ 1.0536,  1.0536,  1.0536,  1.0536,  1.0536,  1.0536,  1.0536],\n",
            "          [ 1.0536,  1.0536,  1.0536,  1.0536,  1.0536,  1.0536,  1.0536],\n",
            "          [ 1.0536,  1.0536,  1.0536,  1.0536,  1.0536,  1.0536,  1.0536],\n",
            "          [ 1.0536,  1.0536,  1.0536,  1.0536,  1.0536,  1.0536,  1.0536],\n",
            "          [ 1.0536,  1.0536,  1.0536,  1.0536,  1.0536,  1.0536,  1.0536],\n",
            "          [ 1.0536,  1.0536,  1.0536,  1.0536,  1.0536,  1.0536,  1.0536]],\n",
            "\n",
            "         [[-2.1466, -2.1466, -2.1466, -2.1466, -2.1466, -2.1466, -2.1466],\n",
            "          [-2.1466, -2.1466, -2.1466, -2.1466, -2.1466, -2.1466, -2.1466],\n",
            "          [-2.1466, -2.1466, -2.1466, -2.1466, -2.1466, -2.1466, -2.1466],\n",
            "          [-2.1466, -2.1466, -2.1466, -2.1466, -2.1466, -2.1466, -2.1466],\n",
            "          [-2.1466, -2.1466, -2.1466, -2.1466, -2.1466, -2.1466, -2.1466],\n",
            "          [-2.1466, -2.1466, -2.1466, -2.1466, -2.1466, -2.1466, -2.1466],\n",
            "          [-2.1466, -2.1466, -2.1466, -2.1466, -2.1466, -2.1466, -2.1466]]]])\n"
          ]
        }
      ]
    }
  ],
  "metadata": {
    "accelerator": "GPU",
    "colab": {
      "provenance": [],
      "gpuType": "T4"
    },
    "kernelspec": {
      "display_name": "Python 3",
      "name": "python3"
    },
    "language_info": {
      "name": "python"
    }
  },
  "nbformat": 4,
  "nbformat_minor": 0
}