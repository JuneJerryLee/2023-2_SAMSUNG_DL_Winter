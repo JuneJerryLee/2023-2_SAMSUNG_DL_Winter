{
  "nbformat": 4,
  "nbformat_minor": 0,
  "metadata": {
    "colab": {
      "provenance": [],
      "toc_visible": true
    },
    "kernelspec": {
      "name": "python3",
      "display_name": "Python 3"
    },
    "accelerator": "GPU",
    "gpuClass": "standard"
  },
  "cells": [
    {
      "cell_type": "markdown",
      "metadata": {
        "id": "NFZLbsaX8SH1"
      },
      "source": [
        "# Contents\n",
        "\n",
        "- Colab\n",
        "    - GPU 활용하기 (Oral)\n",
        "    - Hotkeys\n",
        "    - 터미널 명령\n",
        "    - 파일 입출력\n",
        "- Numpy\n",
        "    - 벡터 & 행렬\n",
        "        - 개체 생성\n",
        "        - 인덱싱 & 요소 할당\n",
        "        - 행렬 연산\n",
        "        - Reshaping\n",
        "    - Python list와의 비교\n",
        "- Exercise1\n",
        "- PyTorch\n",
        "    - Tensors\n",
        "        - 개체 생성\n",
        "        - Tensor 연산\n",
        "        - Reshaping\n",
        "- Exercise2\n"
      ]
    },
    {
      "cell_type": "markdown",
      "metadata": {
        "id": "jTi7s_Zx7q-5"
      },
      "source": [
        "# How to use Colab?\n"
      ]
    },
    {
      "cell_type": "markdown",
      "metadata": {
        "id": "hOYj4eVv78P3"
      },
      "source": [
        "Colab은 별도의 세팅 필요없이 전적으로 클라우드에서 실행되는 무료 Jupyter notebook 환경입니다.\n",
        "\n",
        "Colab을 활용하면 브라우저에서 바로 코드를 작성 및 실행하고, 분석 결과를 저장 및 공유하고, 강력한 컴퓨팅 리소스를 사용할 수 있습니다.\n",
        "\n",
        "- 현재 무료 Colab 버전에서는 Tesla T4 GPU를 무료 제공합니다."
      ]
    },
    {
      "cell_type": "markdown",
      "metadata": {
        "id": "eJ0xmENaPCUV"
      },
      "source": [
        "Advantages\n",
        "\n",
        "- The best thing is that it is free!\n",
        "- It gives you costly GPUs and working envriornment, independent of what personal machine you are using.\n",
        "- It also runs on Google servers using virtual machines and you don’t need to install any packages, which sometimes create difficulty you are using different operating systems such as MAC, Windows, and Linux."
      ]
    },
    {
      "cell_type": "markdown",
      "metadata": {
        "id": "dXMjrr-lidJq"
      },
      "source": [
        "### Hotkeys (change as you want)"
      ]
    },
    {
      "cell_type": "markdown",
      "metadata": {
        "id": "lLlLU_Aoi8IK"
      },
      "source": [
        "| hotkey | action |\n",
        "| --- | --- |\n",
        "| ctrl + M H | Open hotkey configuration |\n",
        "| ctrl + O | Open note |\n",
        "| ctrl + S | Save note |\n",
        "| ctrl + F9 | Run all cells |\n",
        "| ctrl + shift + enter | Run cell |\n",
        "| shift + enter | Run cell and move on to the next |\n",
        "| alt + enter | Run cell and add a new one below |\n",
        "| ctrl + M I | Stop running execution |\n",
        "| ctrl + M A | Add new code cell above |\n",
        "| ctrl + M B | Add new code cell below |\n",
        "| ctrl + M D | Delete cell |\n",
        "| ctrl + M K | Move cell up |\n",
        "| ctrl + M J | Move cell down |\n",
        "| ctrl + M Y | Change to code cell |\n",
        "| ctrl + M M | Change to markdown cell |\n",
        "| ctrl + M Z | Undo last cell execution |\n",
        "| ctrl + H | Search |\n",
        "| ctrl + / | Comment out or undo |"
      ]
    },
    {
      "cell_type": "markdown",
      "metadata": {
        "id": "hVbAfCjZsf9D"
      },
      "source": [
        "### 터미널 명령"
      ]
    },
    {
      "cell_type": "code",
      "metadata": {
        "id": "I-37xARkqKFA",
        "colab": {
          "base_uri": "https://localhost:8080/"
        },
        "outputId": "890bbc47-15bc-4e48-ea99-a149be84a8da"
      },
      "source": [
        "# OS 버전 확인\n",
        "# Colab에서 Linux 명령을 사용하기 위해서는 !를 앞에 붙여주면 됩니다.\n",
        "!cat /etc/issue.net"
      ],
      "execution_count": 1,
      "outputs": [
        {
          "output_type": "stream",
          "name": "stdout",
          "text": [
            "Ubuntu 22.04.3 LTS\n"
          ]
        }
      ]
    },
    {
      "cell_type": "code",
      "metadata": {
        "id": "h1oXSy-RvGkC",
        "colab": {
          "base_uri": "https://localhost:8080/"
        },
        "outputId": "3a815e69-d410-4a42-8bc0-0a5bb55f0a10"
      },
      "source": [
        "# CPU 정보 확인\n",
        "!cat /proc/cpuinfo | grep 'processor\\|model name\\|cpu cores'\n",
        "# 메모리(RAM) 정보 확인\n",
        "!free -h\n",
        "# 디스크 정보 확인\n",
        "!df -h"
      ],
      "execution_count": 2,
      "outputs": [
        {
          "output_type": "stream",
          "name": "stdout",
          "text": [
            "processor\t: 0\n",
            "model name\t: Intel(R) Xeon(R) CPU @ 2.00GHz\n",
            "cpu cores\t: 1\n",
            "processor\t: 1\n",
            "model name\t: Intel(R) Xeon(R) CPU @ 2.00GHz\n",
            "cpu cores\t: 1\n",
            "               total        used        free      shared  buff/cache   available\n",
            "Mem:            12Gi       591Mi       8.1Gi       1.0Mi       4.0Gi        11Gi\n",
            "Swap:             0B          0B          0B\n",
            "Filesystem      Size  Used Avail Use% Mounted on\n",
            "overlay          79G   46G   34G  58% /\n",
            "tmpfs            64M     0   64M   0% /dev\n",
            "shm             5.7G     0  5.7G   0% /dev/shm\n",
            "/dev/root       2.0G  1.1G  849M  57% /usr/sbin/docker-init\n",
            "/dev/sda1        75G   56G   20G  75% /opt/bin/.nvidia\n",
            "tmpfs           6.4G   72K  6.4G   1% /var/colab\n",
            "tmpfs           6.4G     0  6.4G   0% /proc/acpi\n",
            "tmpfs           6.4G     0  6.4G   0% /proc/scsi\n",
            "tmpfs           6.4G     0  6.4G   0% /sys/firmware\n"
          ]
        }
      ]
    },
    {
      "cell_type": "code",
      "metadata": {
        "id": "bnwLlgJ_gkAI",
        "colab": {
          "base_uri": "https://localhost:8080/"
        },
        "outputId": "4afd3f55-0d35-4fcd-a0c1-b1a77f0eed96"
      },
      "source": [
        "# GPU 정보 확인\n",
        "!nvidia-smi"
      ],
      "execution_count": 3,
      "outputs": [
        {
          "output_type": "stream",
          "name": "stdout",
          "text": [
            "Fri Dec 15 03:09:11 2023       \n",
            "+---------------------------------------------------------------------------------------+\n",
            "| NVIDIA-SMI 535.104.05             Driver Version: 535.104.05   CUDA Version: 12.2     |\n",
            "|-----------------------------------------+----------------------+----------------------+\n",
            "| GPU  Name                 Persistence-M | Bus-Id        Disp.A | Volatile Uncorr. ECC |\n",
            "| Fan  Temp   Perf          Pwr:Usage/Cap |         Memory-Usage | GPU-Util  Compute M. |\n",
            "|                                         |                      |               MIG M. |\n",
            "|=========================================+======================+======================|\n",
            "|   0  Tesla T4                       Off | 00000000:00:04.0 Off |                    0 |\n",
            "| N/A   59C    P8              12W /  70W |      0MiB / 15360MiB |      0%      Default |\n",
            "|                                         |                      |                  N/A |\n",
            "+-----------------------------------------+----------------------+----------------------+\n",
            "                                                                                         \n",
            "+---------------------------------------------------------------------------------------+\n",
            "| Processes:                                                                            |\n",
            "|  GPU   GI   CI        PID   Type   Process name                            GPU Memory |\n",
            "|        ID   ID                                                             Usage      |\n",
            "|=======================================================================================|\n",
            "|  No running processes found                                                           |\n",
            "+---------------------------------------------------------------------------------------+\n"
          ]
        }
      ]
    },
    {
      "cell_type": "code",
      "metadata": {
        "id": "o40n39H4r4gR",
        "colab": {
          "base_uri": "https://localhost:8080/"
        },
        "outputId": "783a627b-1ad7-4199-cb8a-eccb906ced7d"
      },
      "source": [
        "# Python 버전 확인\n",
        "!python --version"
      ],
      "execution_count": 4,
      "outputs": [
        {
          "output_type": "stream",
          "name": "stdout",
          "text": [
            "Python 3.10.12\n"
          ]
        }
      ]
    },
    {
      "cell_type": "code",
      "metadata": {
        "id": "_vfTvu3_-lb8",
        "colab": {
          "base_uri": "https://localhost:8080/"
        },
        "outputId": "d0dbe344-0912-4c9a-d58e-40aa02f8d255"
      },
      "source": [
        "# 현재 작업 경로(Current Working Directory)\n",
        "!pwd"
      ],
      "execution_count": 5,
      "outputs": [
        {
          "output_type": "stream",
          "name": "stdout",
          "text": [
            "/content\n"
          ]
        }
      ]
    },
    {
      "cell_type": "code",
      "metadata": {
        "id": "vnJhNcnO-7X0",
        "colab": {
          "base_uri": "https://localhost:8080/"
        },
        "outputId": "588612a9-45ed-46f4-e093-03a6d6c2359d"
      },
      "source": [
        "# 현재 작업 경로의 파일/폴더 리스트 확인\n",
        "# ls -[옵션]\n",
        "!ls -lah"
      ],
      "execution_count": 6,
      "outputs": [
        {
          "output_type": "stream",
          "name": "stdout",
          "text": [
            "total 16K\n",
            "drwxr-xr-x 1 root root 4.0K Dec 13 14:22 .\n",
            "drwxr-xr-x 1 root root 4.0K Dec 15 03:07 ..\n",
            "drwxr-xr-x 4 root root 4.0K Dec 13 14:22 .config\n",
            "drwxr-xr-x 1 root root 4.0K Dec 13 14:22 sample_data\n"
          ]
        }
      ]
    },
    {
      "cell_type": "code",
      "metadata": {
        "id": "SanL9vJZOk5v",
        "colab": {
          "base_uri": "https://localhost:8080/"
        },
        "outputId": "1c451fb6-247f-4578-a7bb-9f00efc04870"
      },
      "source": [
        "!mv # mv [옵션] [원본 경로] [옮길 경로]\n",
        "!cp # cp [옵션] [원본 경로] [옮길 경로]"
      ],
      "execution_count": 7,
      "outputs": [
        {
          "output_type": "stream",
          "name": "stdout",
          "text": [
            "mv: missing file operand\n",
            "Try 'mv --help' for more information.\n",
            "cp: missing file operand\n",
            "Try 'cp --help' for more information.\n"
          ]
        }
      ]
    },
    {
      "cell_type": "code",
      "metadata": {
        "id": "Llw0ZPAKoMZi",
        "colab": {
          "base_uri": "https://localhost:8080/"
        },
        "outputId": "79ad5175-b8b0-455c-f41f-9f67346d9d89"
      },
      "source": [
        "!pip show torch"
      ],
      "execution_count": 8,
      "outputs": [
        {
          "output_type": "stream",
          "name": "stdout",
          "text": [
            "Name: torch\n",
            "Version: 2.1.0+cu121\n",
            "Summary: Tensors and Dynamic neural networks in Python with strong GPU acceleration\n",
            "Home-page: https://pytorch.org/\n",
            "Author: PyTorch Team\n",
            "Author-email: packages@pytorch.org\n",
            "License: BSD-3\n",
            "Location: /usr/local/lib/python3.10/dist-packages\n",
            "Requires: filelock, fsspec, jinja2, networkx, sympy, triton, typing-extensions\n",
            "Required-by: fastai, torchaudio, torchdata, torchtext, torchvision\n"
          ]
        }
      ]
    },
    {
      "cell_type": "markdown",
      "metadata": {
        "id": "bjcTMg3s7sM4"
      },
      "source": [
        "### 파일 입출력"
      ]
    },
    {
      "cell_type": "code",
      "metadata": {
        "id": "ICWGHmOhuFUI"
      },
      "source": [
        "# Colab 작업경로에 파일 업로드\n",
        "# [NOTE] 업로드된 파일은 런타임이 초기화될 경우 사라집니다.\n",
        "# import os\n",
        "# from google.colab import files|\n",
        "\n",
        "# uploaded = files.upload()\n",
        "\n",
        "# for f in uploaded.keys():\n",
        "#     print('User uploaded file \"{}\" at \"{}\"'.format(f, os.getcwd()))\n",
        "\n",
        "# Or simply open file tab then drag-and-drop"
      ],
      "execution_count": 1,
      "outputs": []
    },
    {
      "cell_type": "code",
      "metadata": {
        "id": "AtBKyVEjAJu4"
      },
      "source": [
        "# Download file from Colab workspace\n",
        "# [NOTE] Chrome 브라우저 사용 및 써드파티 쿠키를 허용해야 합니다.\n",
        "# files.download('/content/sample_data/mnist_train_small.csv')\n",
        "\n",
        "# 또는 간단히 '파일' 탭에서 마우스 우 클릭하여 다운로드 하는 것을 추천합니다."
      ],
      "execution_count": 2,
      "outputs": []
    },
    {
      "cell_type": "code",
      "metadata": {
        "id": "j4BaBcpeDGpO"
      },
      "source": [
        "# 구글 드라이브 마운트\n",
        "# from google.colab import drive\n",
        "\n",
        "# drive.mount('/content/gdrive')"
      ],
      "execution_count": 3,
      "outputs": []
    },
    {
      "cell_type": "markdown",
      "metadata": {
        "id": "Wk7cUX5azP05"
      },
      "source": [
        "# Numpy Tutorial\n",
        "\n",
        "Refers heavily on\n",
        "https://nbviewer.jupyter.org/github/cgpotts/cs224u/blob/2019-spring/numpy_tutorial.ipynb\n"
      ]
    },
    {
      "cell_type": "code",
      "metadata": {
        "id": "vK_XkXfNy7oU"
      },
      "source": [
        "import numpy as np"
      ],
      "execution_count": 4,
      "outputs": []
    },
    {
      "cell_type": "markdown",
      "metadata": {
        "id": "5x7X5YrLzF63"
      },
      "source": [
        "## Vectors & Matrices"
      ]
    },
    {
      "cell_type": "markdown",
      "metadata": {
        "id": "dc6oHf2H0V6a"
      },
      "source": [
        "### Initialization"
      ]
    },
    {
      "cell_type": "code",
      "metadata": {
        "id": "CIfxeRiOzFcp",
        "colab": {
          "base_uri": "https://localhost:8080/"
        },
        "outputId": "84d861fb-dc1a-4422-ac82-570a209b3b85"
      },
      "source": [
        "# 괄호 안의 차원으로 영행렬 생성\n",
        "np.zeros(5)"
      ],
      "execution_count": 5,
      "outputs": [
        {
          "output_type": "execute_result",
          "data": {
            "text/plain": [
              "array([0., 0., 0., 0., 0.])"
            ]
          },
          "metadata": {},
          "execution_count": 5
        }
      ]
    },
    {
      "cell_type": "code",
      "source": [
        "# np.zeros(shape=(3, 5)) 와 동일\n",
        "np.zeros((3, 5))"
      ],
      "metadata": {
        "colab": {
          "base_uri": "https://localhost:8080/"
        },
        "id": "tdhkKZWo80rM",
        "outputId": "ad6fdb95-22d7-4287-f5f2-f518471414de"
      },
      "execution_count": 6,
      "outputs": [
        {
          "output_type": "execute_result",
          "data": {
            "text/plain": [
              "array([[0., 0., 0., 0., 0.],\n",
              "       [0., 0., 0., 0., 0.],\n",
              "       [0., 0., 0., 0., 0.]])"
            ]
          },
          "metadata": {},
          "execution_count": 6
        }
      ]
    },
    {
      "cell_type": "code",
      "metadata": {
        "id": "IOuBYS5QzEdW",
        "colab": {
          "base_uri": "https://localhost:8080/"
        },
        "outputId": "64d77c86-c612-444b-9701-324a4cbeedc2"
      },
      "source": [
        "np.ones((3, 5))"
      ],
      "execution_count": 7,
      "outputs": [
        {
          "output_type": "execute_result",
          "data": {
            "text/plain": [
              "array([[1., 1., 1., 1., 1.],\n",
              "       [1., 1., 1., 1., 1.],\n",
              "       [1., 1., 1., 1., 1.]])"
            ]
          },
          "metadata": {},
          "execution_count": 7
        }
      ]
    },
    {
      "cell_type": "code",
      "metadata": {
        "id": "8FbbUutizL-3",
        "colab": {
          "base_uri": "https://localhost:8080/"
        },
        "outputId": "4d112e00-4894-4cbc-dd48-09fb30bef9ab"
      },
      "source": [
        "# 파이썬 list를 numpy array로 변환\n",
        "np.array([1, 2, 3, 4, 5])"
      ],
      "execution_count": 8,
      "outputs": [
        {
          "output_type": "execute_result",
          "data": {
            "text/plain": [
              "array([1, 2, 3, 4, 5])"
            ]
          },
          "metadata": {},
          "execution_count": 8
        }
      ]
    },
    {
      "cell_type": "code",
      "source": [
        "np.ones(5)"
      ],
      "metadata": {
        "colab": {
          "base_uri": "https://localhost:8080/"
        },
        "id": "xsiHz8GD4bVl",
        "outputId": "8cfa362f-29ed-4b07-dd2c-77839a345443"
      },
      "execution_count": 9,
      "outputs": [
        {
          "output_type": "execute_result",
          "data": {
            "text/plain": [
              "array([1., 1., 1., 1., 1.])"
            ]
          },
          "metadata": {},
          "execution_count": 9
        }
      ]
    },
    {
      "cell_type": "code",
      "metadata": {
        "id": "MrfLFJ5pzc-w",
        "colab": {
          "base_uri": "https://localhost:8080/"
        },
        "outputId": "9867e697-da70-4219-ad60-e7472d63afec"
      },
      "source": [
        "# numpy array를 파이썬 list로 변환\n",
        "np.ones(5).tolist()"
      ],
      "execution_count": 10,
      "outputs": [
        {
          "output_type": "execute_result",
          "data": {
            "text/plain": [
              "[1.0, 1.0, 1.0, 1.0, 1.0]"
            ]
          },
          "metadata": {},
          "execution_count": 10
        }
      ]
    },
    {
      "cell_type": "code",
      "metadata": {
        "id": "BiMCVVjKzuDo",
        "colab": {
          "base_uri": "https://localhost:8080/"
        },
        "outputId": "79d45620-86a3-4e75-ca24-3680a4eae48e"
      },
      "source": [
        "# 자료형을 특정해줄 수 있습니다.\n",
        "np.array([[1,2,3], [4,5,6]], dtype='int')"
      ],
      "execution_count": 11,
      "outputs": [
        {
          "output_type": "execute_result",
          "data": {
            "text/plain": [
              "array([[1, 2, 3],\n",
              "       [4, 5, 6]])"
            ]
          },
          "metadata": {},
          "execution_count": 11
        }
      ]
    },
    {
      "cell_type": "code",
      "metadata": {
        "id": "Z9h21mc8z79c",
        "colab": {
          "base_uri": "https://localhost:8080/"
        },
        "outputId": "73977780-2ec8-4374-e0f8-ec0374b075c7"
      },
      "source": [
        "# 간격만큼 띄워진 수열 생성\n",
        "# np.arange(start, end, interval)\n",
        "np.arange(0, 20, 2)"
      ],
      "execution_count": 12,
      "outputs": [
        {
          "output_type": "execute_result",
          "data": {
            "text/plain": [
              "array([ 0,  2,  4,  6,  8, 10, 12, 14, 16, 18])"
            ]
          },
          "metadata": {},
          "execution_count": 12
        }
      ]
    },
    {
      "cell_type": "code",
      "metadata": {
        "id": "D12zKwgV0EyU",
        "colab": {
          "base_uri": "https://localhost:8080/"
        },
        "outputId": "1a81a27c-297c-407f-c9af-42c33b755fdd"
      },
      "source": [
        "# random floats in [0, 1) --> uniform distribution\n",
        "# 0 이상 1 미만의 Uniform distribution에서 난수 추출\n",
        "\n",
        "np.random.random(10)"
      ],
      "execution_count": 13,
      "outputs": [
        {
          "output_type": "execute_result",
          "data": {
            "text/plain": [
              "array([0.3198757 , 0.46971967, 0.82284873, 0.56392511, 0.74904302,\n",
              "       0.42660091, 0.78714028, 0.91848208, 0.43013149, 0.55080545])"
            ]
          },
          "metadata": {},
          "execution_count": 13
        }
      ]
    },
    {
      "cell_type": "code",
      "metadata": {
        "id": "5mlOXgfr5sfI",
        "colab": {
          "base_uri": "https://localhost:8080/"
        },
        "outputId": "3d44c33f-e5f6-4376-a1eb-792ecc47641f"
      },
      "source": [
        "# identity matrix\n",
        "np.identity(3)"
      ],
      "execution_count": 14,
      "outputs": [
        {
          "output_type": "execute_result",
          "data": {
            "text/plain": [
              "array([[1., 0., 0.],\n",
              "       [0., 1., 0.],\n",
              "       [0., 0., 1.]])"
            ]
          },
          "metadata": {},
          "execution_count": 14
        }
      ]
    },
    {
      "cell_type": "markdown",
      "metadata": {
        "id": "thm8GLwl0XRW"
      },
      "source": [
        "### Indexing"
      ]
    },
    {
      "cell_type": "code",
      "metadata": {
        "id": "XPoqQr6-0OM-"
      },
      "source": [
        "import numpy as np\n",
        "x = np.array([10, 20, 30, 40, 50])"
      ],
      "execution_count": 15,
      "outputs": []
    },
    {
      "cell_type": "code",
      "metadata": {
        "id": "y1EI7a610bxh",
        "colab": {
          "base_uri": "https://localhost:8080/"
        },
        "outputId": "94adf693-fe3a-4965-c424-6cc275eaa790"
      },
      "source": [
        "x[0]"
      ],
      "execution_count": 16,
      "outputs": [
        {
          "output_type": "execute_result",
          "data": {
            "text/plain": [
              "10"
            ]
          },
          "metadata": {},
          "execution_count": 16
        }
      ]
    },
    {
      "cell_type": "code",
      "source": [
        "x[-1]"
      ],
      "metadata": {
        "colab": {
          "base_uri": "https://localhost:8080/"
        },
        "id": "RWTYHBA863KQ",
        "outputId": "9abbe0a6-9248-44bc-aecd-55f053bfd20c"
      },
      "execution_count": 17,
      "outputs": [
        {
          "output_type": "execute_result",
          "data": {
            "text/plain": [
              "50"
            ]
          },
          "metadata": {},
          "execution_count": 17
        }
      ]
    },
    {
      "cell_type": "code",
      "metadata": {
        "id": "m8mVc6nx0e5o",
        "colab": {
          "base_uri": "https://localhost:8080/"
        },
        "outputId": "d3050a2f-b75c-4323-f4de-b52059745126"
      },
      "source": [
        "# slicing:\n",
        "# 3번째 원소는 포함하지 않음\n",
        "x[0:2]"
      ],
      "execution_count": 18,
      "outputs": [
        {
          "output_type": "execute_result",
          "data": {
            "text/plain": [
              "array([10, 20])"
            ]
          },
          "metadata": {},
          "execution_count": 18
        }
      ]
    },
    {
      "cell_type": "code",
      "metadata": {
        "id": "qVqymdRQ6ceH",
        "colab": {
          "base_uri": "https://localhost:8080/"
        },
        "outputId": "792e1f19-55b7-488a-9c25-34af38d27375"
      },
      "source": [
        "X = np.array([[1,2,3], [4,5,6]])\n",
        "X"
      ],
      "execution_count": 19,
      "outputs": [
        {
          "output_type": "execute_result",
          "data": {
            "text/plain": [
              "array([[1, 2, 3],\n",
              "       [4, 5, 6]])"
            ]
          },
          "metadata": {},
          "execution_count": 19
        }
      ]
    },
    {
      "cell_type": "code",
      "metadata": {
        "id": "T9hR4X3H6ceK",
        "colab": {
          "base_uri": "https://localhost:8080/"
        },
        "outputId": "e78bd963-93c2-4db6-949f-fdd3ae7a40c5"
      },
      "source": [
        "X[0]"
      ],
      "execution_count": 20,
      "outputs": [
        {
          "output_type": "execute_result",
          "data": {
            "text/plain": [
              "array([1, 2, 3])"
            ]
          },
          "metadata": {},
          "execution_count": 20
        }
      ]
    },
    {
      "cell_type": "code",
      "source": [
        "X[:, 0]"
      ],
      "metadata": {
        "colab": {
          "base_uri": "https://localhost:8080/"
        },
        "id": "f1QdEmHb7MTZ",
        "outputId": "ad50a61d-363f-486a-e20a-f6f54df722da"
      },
      "execution_count": 21,
      "outputs": [
        {
          "output_type": "execute_result",
          "data": {
            "text/plain": [
              "array([1, 4])"
            ]
          },
          "metadata": {},
          "execution_count": 21
        }
      ]
    },
    {
      "cell_type": "code",
      "metadata": {
        "id": "lgQR6P616ceN",
        "colab": {
          "base_uri": "https://localhost:8080/"
        },
        "outputId": "7c8eebac-f7ca-4661-8be2-192970d8a021"
      },
      "source": [
        "X[0, 0]"
      ],
      "execution_count": 22,
      "outputs": [
        {
          "output_type": "execute_result",
          "data": {
            "text/plain": [
              "1"
            ]
          },
          "metadata": {},
          "execution_count": 22
        }
      ]
    },
    {
      "cell_type": "code",
      "metadata": {
        "id": "U7JP86S66ceP",
        "colab": {
          "base_uri": "https://localhost:8080/"
        },
        "outputId": "b7815786-43f0-4fb8-99e0-f85461257053"
      },
      "source": [
        "# Matrix\n",
        "# [Row, Column]\n",
        "# 행 추출\n",
        "X[0, :]"
      ],
      "execution_count": 23,
      "outputs": [
        {
          "output_type": "execute_result",
          "data": {
            "text/plain": [
              "array([1, 2, 3])"
            ]
          },
          "metadata": {},
          "execution_count": 23
        }
      ]
    },
    {
      "cell_type": "code",
      "metadata": {
        "id": "wvEFYPCG6ceR",
        "colab": {
          "base_uri": "https://localhost:8080/"
        },
        "outputId": "5267ca6c-e728-4309-9ba0-1215bffbc620"
      },
      "source": [
        "# 열 추출\n",
        "X[:, 0]"
      ],
      "execution_count": 24,
      "outputs": [
        {
          "output_type": "execute_result",
          "data": {
            "text/plain": [
              "array([1, 4])"
            ]
          },
          "metadata": {},
          "execution_count": 24
        }
      ]
    },
    {
      "cell_type": "code",
      "metadata": {
        "id": "cY6OJmaQ6ceT",
        "colab": {
          "base_uri": "https://localhost:8080/"
        },
        "outputId": "6d0d5af6-a1cd-46b0-cdc3-738aac862cec"
      },
      "source": [
        "# 여러 열 추출\n",
        "X[:, [0, 2]]"
      ],
      "execution_count": 25,
      "outputs": [
        {
          "output_type": "execute_result",
          "data": {
            "text/plain": [
              "array([[1, 3],\n",
              "       [4, 6]])"
            ]
          },
          "metadata": {},
          "execution_count": 25
        }
      ]
    },
    {
      "cell_type": "markdown",
      "metadata": {
        "id": "cMf0sFtk0vsJ"
      },
      "source": [
        "### 요소 할당"
      ]
    },
    {
      "cell_type": "code",
      "metadata": {
        "id": "R1s8e4w452pB",
        "colab": {
          "base_uri": "https://localhost:8080/"
        },
        "outputId": "c079dad0-9aa1-4c05-864c-df6f8a5161a0"
      },
      "source": [
        "# Numpy array: Mutable (수정 가능)\n",
        "a = np.array([[1,2,3,4], [5,6,7,8], [9,10,11,12]])\n",
        "print(a[0, 1])\n",
        "\n",
        "b = a[:2, 1:3]\n",
        "b_ = a\n",
        "\n",
        "print('b: ', b)\n",
        "print(f'id of a: {id(a)}')\n",
        "print(f'id of b_: {id(b_)}')\n",
        "\n",
        "assert id(a) == id(b_)\n",
        "\n",
        "print(f'id of b: {id(b)}')\n",
        "print('a[0, 0]: ', a[0, 0])\n",
        "b_[0, 0] = 77\n",
        "print(\"after changes\")\n",
        "print('a[0, 0]:', a[0, 0])"
      ],
      "execution_count": 27,
      "outputs": [
        {
          "output_type": "stream",
          "name": "stdout",
          "text": [
            "2\n",
            "b:  [[2 3]\n",
            " [6 7]]\n",
            "id of a: 140260159541328\n",
            "id of b_: 140260159541328\n",
            "id of b: 140260159541232\n",
            "a[0, 0]:  1\n",
            "after changes\n",
            "a[0, 0]: 77\n"
          ]
        }
      ]
    },
    {
      "cell_type": "markdown",
      "source": [
        "array b_는 array a와 동일하므로 메모리 상 같은 주소를 공유합니다.\n",
        "\n",
        "array b는 array a를 slicing한 객체로, array가 mutable이기 때문에 b는 새로운 주소에 할당됩니다.\n",
        "\n",
        "또한, array b_의 한 요소를 변경할 경우 원래 참조하고 있는 array a의 해당 위치의 요소도 변경됩니다."
      ],
      "metadata": {
        "id": "UH9QsM6Ldzr5"
      }
    },
    {
      "cell_type": "code",
      "metadata": {
        "id": "cPRH7TD76E1G",
        "colab": {
          "base_uri": "https://localhost:8080/"
        },
        "outputId": "c91f699f-9b2e-408a-cd19-f7d729894ee6"
      },
      "source": [
        "# copy() method\n",
        "a = np.array([[1,2,3,4],[5,6,7,8],[9,10,11,12]])\n",
        "c = a.copy()\n",
        "assert id(a) != id(c), 'Functional methods create a new copy of the array'\n",
        "\n",
        "c = c[:2, 1:3]\n",
        "print(a[0, 1])\n",
        "c[0, 0] = 77\n",
        "print(a[0, 1])\n",
        "print(f'id of a: {id(a)}')\n",
        "print(f'id of c: {id(c)}')"
      ],
      "execution_count": 29,
      "outputs": [
        {
          "output_type": "stream",
          "name": "stdout",
          "text": [
            "2\n",
            "2\n",
            "id of a: 140260161191440\n",
            "id of c: 140260159541520\n"
          ]
        }
      ]
    },
    {
      "cell_type": "markdown",
      "source": [
        "copy() 메소드는 array를 복사하여 새 주소에 할당합니다.\n",
        "따라서 copy()로 복사한 array를 수정한다 하더라도 원본 array는 그대로 유지됩니다."
      ],
      "metadata": {
        "id": "colaReq8fa8a"
      }
    },
    {
      "cell_type": "markdown",
      "metadata": {
        "id": "KynXuXRn1U0t"
      },
      "source": [
        "### Operations (functions)"
      ]
    },
    {
      "cell_type": "code",
      "source": [
        "a = np.array([[1,2,3,4], [5,6,7,8], [9,10,11,12]])\n",
        "a"
      ],
      "metadata": {
        "colab": {
          "base_uri": "https://localhost:8080/"
        },
        "id": "oZ0rIfL-8dmE",
        "outputId": "14890d79-6671-44fa-e69d-862749348d95"
      },
      "execution_count": 30,
      "outputs": [
        {
          "output_type": "execute_result",
          "data": {
            "text/plain": [
              "array([[ 1,  2,  3,  4],\n",
              "       [ 5,  6,  7,  8],\n",
              "       [ 9, 10, 11, 12]])"
            ]
          },
          "metadata": {},
          "execution_count": 30
        }
      ]
    },
    {
      "cell_type": "code",
      "metadata": {
        "id": "GEeL87Hg6fXa",
        "colab": {
          "base_uri": "https://localhost:8080/"
        },
        "outputId": "0dae5b23-2a02-4a86-807a-2a4527162f88"
      },
      "source": [
        "a = np.array([[1,2,3,4], [5,6,7,8], [9,10,11,12]])\n",
        "#  Built-in 메서드\n",
        "print(a.sum())\n",
        "print(a.mean())\n",
        "print(a.max())\n",
        "\n",
        "print(a.argmax()) # 가장 큰 숫자의 인덱스, 위치를 알려줌"
      ],
      "execution_count": 31,
      "outputs": [
        {
          "output_type": "stream",
          "name": "stdout",
          "text": [
            "78\n",
            "6.5\n",
            "12\n",
            "11\n"
          ]
        }
      ]
    },
    {
      "cell_type": "code",
      "metadata": {
        "id": "QzEHGrhP6vhI",
        "colab": {
          "base_uri": "https://localhost:8080/"
        },
        "outputId": "ae114398-55a0-4695-c4c8-09107b5e5c65"
      },
      "source": [
        "print(a.max(axis=0))"
      ],
      "execution_count": 32,
      "outputs": [
        {
          "output_type": "stream",
          "name": "stdout",
          "text": [
            "[ 9 10 11 12]\n"
          ]
        }
      ]
    },
    {
      "cell_type": "code",
      "metadata": {
        "id": "XPgvzbJT6wVe",
        "colab": {
          "base_uri": "https://localhost:8080/"
        },
        "outputId": "b79cb639-e1c7-4b4a-d29a-378c3a6132e0"
      },
      "source": [
        "# others\n",
        "print(np.log(a))\n",
        "print(np.exp(a))"
      ],
      "execution_count": 33,
      "outputs": [
        {
          "output_type": "stream",
          "name": "stdout",
          "text": [
            "[[0.         0.69314718 1.09861229 1.38629436]\n",
            " [1.60943791 1.79175947 1.94591015 2.07944154]\n",
            " [2.19722458 2.30258509 2.39789527 2.48490665]]\n",
            "[[2.71828183e+00 7.38905610e+00 2.00855369e+01 5.45981500e+01]\n",
            " [1.48413159e+02 4.03428793e+02 1.09663316e+03 2.98095799e+03]\n",
            " [8.10308393e+03 2.20264658e+04 5.98741417e+04 1.62754791e+05]]\n"
          ]
        }
      ]
    },
    {
      "cell_type": "code",
      "source": [
        "a"
      ],
      "metadata": {
        "colab": {
          "base_uri": "https://localhost:8080/"
        },
        "id": "TD8isSW786Hd",
        "outputId": "394e34ca-1de5-4f8b-b91f-43e74ab446e9"
      },
      "execution_count": 34,
      "outputs": [
        {
          "output_type": "execute_result",
          "data": {
            "text/plain": [
              "array([[ 1,  2,  3,  4],\n",
              "       [ 5,  6,  7,  8],\n",
              "       [ 9, 10, 11, 12]])"
            ]
          },
          "metadata": {},
          "execution_count": 34
        }
      ]
    },
    {
      "cell_type": "code",
      "metadata": {
        "id": "WMZ8C28K6xE5",
        "colab": {
          "base_uri": "https://localhost:8080/"
        },
        "outputId": "a3fe7ef1-f4cd-4024-8566-58559adb2aba"
      },
      "source": [
        "\"\"\" Broadcasting \"\"\"\n",
        "# Vector + scalar\n",
        "print(a + 1)\n",
        "\n",
        "m1 = np.array([[1, 2]])\n",
        "\n",
        "m2 = np.array([[3],\n",
        "               [4]])\n",
        "\n",
        "m3 = np.array([[1,2],[3,4]])\n",
        "# 2 x 1 Vector + 1 x 2 Vector\n",
        "print(m1)\n",
        "print(m2)\n",
        "print(m1 + m2) # 2x2 행렬\n",
        "\n",
        "# 2 x 1 Vector + 2 x 2 Vector\n",
        "print(m1 + m3)  # 2x2 행렬\n",
        "\n",
        "# 1 x 2 Vector + 2 x 2 Vector\n",
        "print(m2 + m3)"
      ],
      "execution_count": 35,
      "outputs": [
        {
          "output_type": "stream",
          "name": "stdout",
          "text": [
            "[[ 2  3  4  5]\n",
            " [ 6  7  8  9]\n",
            " [10 11 12 13]]\n",
            "[[1 2]]\n",
            "[[3]\n",
            " [4]]\n",
            "[[4 5]\n",
            " [5 6]]\n",
            "[[2 4]\n",
            " [4 6]]\n",
            "[[4 5]\n",
            " [7 8]]\n"
          ]
        }
      ]
    },
    {
      "cell_type": "markdown",
      "metadata": {
        "id": "PqBDDpQ16f5w"
      },
      "source": [
        "### Reshaping"
      ]
    },
    {
      "cell_type": "code",
      "metadata": {
        "id": "U41aI8kC5S1g",
        "colab": {
          "base_uri": "https://localhost:8080/"
        },
        "outputId": "007b2ed4-f2bb-44e8-ae28-f3cbb7db5b2c"
      },
      "source": [
        "z = np.arange(1, 7)\n",
        "z"
      ],
      "execution_count": 36,
      "outputs": [
        {
          "output_type": "execute_result",
          "data": {
            "text/plain": [
              "array([1, 2, 3, 4, 5, 6])"
            ]
          },
          "metadata": {},
          "execution_count": 36
        }
      ]
    },
    {
      "cell_type": "code",
      "metadata": {
        "id": "bKHih5qF54Zy",
        "colab": {
          "base_uri": "https://localhost:8080/"
        },
        "outputId": "e7bf81bb-6449-48de-bc73-d8cb99002463"
      },
      "source": [
        "z.shape"
      ],
      "execution_count": 37,
      "outputs": [
        {
          "output_type": "execute_result",
          "data": {
            "text/plain": [
              "(6,)"
            ]
          },
          "metadata": {},
          "execution_count": 37
        }
      ]
    },
    {
      "cell_type": "code",
      "metadata": {
        "id": "ha8wA70c55bO",
        "colab": {
          "base_uri": "https://localhost:8080/"
        },
        "outputId": "139fb020-0b60-4c86-b257-6ededfbfd565"
      },
      "source": [
        "# .reshape(원하는 크기)\n",
        "Z = z.reshape(2, 3)\n",
        "Z"
      ],
      "execution_count": 38,
      "outputs": [
        {
          "output_type": "execute_result",
          "data": {
            "text/plain": [
              "array([[1, 2, 3],\n",
              "       [4, 5, 6]])"
            ]
          },
          "metadata": {},
          "execution_count": 38
        }
      ]
    },
    {
      "cell_type": "code",
      "metadata": {
        "id": "6REYzs2P6DR7",
        "colab": {
          "base_uri": "https://localhost:8080/"
        },
        "outputId": "050bf3a3-a3ef-4ab6-dd50-1ef72c2fb24c"
      },
      "source": [
        "Z.shape"
      ],
      "execution_count": 39,
      "outputs": [
        {
          "output_type": "execute_result",
          "data": {
            "text/plain": [
              "(2, 3)"
            ]
          },
          "metadata": {},
          "execution_count": 39
        }
      ]
    },
    {
      "cell_type": "code",
      "metadata": {
        "id": "sMUt1s_n6Tlf",
        "colab": {
          "base_uri": "https://localhost:8080/"
        },
        "outputId": "43a0148b-01cb-4bc7-86bf-22e3e8bc33a1"
      },
      "source": [
        "# 1X6\n",
        "Z.reshape(6)"
      ],
      "execution_count": 40,
      "outputs": [
        {
          "output_type": "execute_result",
          "data": {
            "text/plain": [
              "array([1, 2, 3, 4, 5, 6])"
            ]
          },
          "metadata": {},
          "execution_count": 40
        }
      ]
    },
    {
      "cell_type": "code",
      "metadata": {
        "id": "CJSd4FmC6Upj",
        "colab": {
          "base_uri": "https://localhost:8080/"
        },
        "outputId": "3947132f-c45d-48fd-e79e-d30d9e23ef41"
      },
      "source": [
        "# same as above\n",
        "Z.flatten()"
      ],
      "execution_count": 41,
      "outputs": [
        {
          "output_type": "execute_result",
          "data": {
            "text/plain": [
              "array([1, 2, 3, 4, 5, 6])"
            ]
          },
          "metadata": {},
          "execution_count": 41
        }
      ]
    },
    {
      "cell_type": "code",
      "metadata": {
        "id": "9t8S7tEA6WYZ",
        "colab": {
          "base_uri": "https://localhost:8080/"
        },
        "outputId": "b8a1b42f-e7c9-4376-82e3-118e50c69443"
      },
      "source": [
        "# transpose the matrix\n",
        "Z.T"
      ],
      "execution_count": 42,
      "outputs": [
        {
          "output_type": "execute_result",
          "data": {
            "text/plain": [
              "array([[1, 4],\n",
              "       [2, 5],\n",
              "       [3, 6]])"
            ]
          },
          "metadata": {},
          "execution_count": 42
        }
      ]
    },
    {
      "cell_type": "markdown",
      "metadata": {
        "id": "haKFLP_j1u-0"
      },
      "source": [
        "## Comparison with python lists\n",
        "\n",
        "Why do we use array?\n",
        "\n"
      ]
    },
    {
      "cell_type": "code",
      "metadata": {
        "id": "XSSHmWEp3COu"
      },
      "source": [
        "# log every value as list, one by one\n",
        "def listlog(vals):\n",
        "    return [np.log(y) for y in vals]"
      ],
      "execution_count": 43,
      "outputs": []
    },
    {
      "cell_type": "code",
      "metadata": {
        "id": "4Cri_K6P3Lzh",
        "colab": {
          "base_uri": "https://localhost:8080/"
        },
        "outputId": "3287f370-9f74-459c-ca41-9c93c68f85c1"
      },
      "source": [
        "# get random vector\n",
        "samp = np.random.random_sample(int(1e7))+1\n",
        "samp"
      ],
      "execution_count": 44,
      "outputs": [
        {
          "output_type": "execute_result",
          "data": {
            "text/plain": [
              "array([1.38255323, 1.80510783, 1.7910993 , ..., 1.36825469, 1.96175388,\n",
              "       1.55221666])"
            ]
          },
          "metadata": {},
          "execution_count": 44
        }
      ]
    },
    {
      "cell_type": "code",
      "metadata": {
        "id": "-eiFlou93FBI",
        "colab": {
          "base_uri": "https://localhost:8080/"
        },
        "outputId": "5a74ed53-94e5-4405-a54f-fbe24094a94d"
      },
      "source": [
        "%time _ = listlog(samp)"
      ],
      "execution_count": 45,
      "outputs": [
        {
          "output_type": "stream",
          "name": "stdout",
          "text": [
            "CPU times: user 9.65 s, sys: 232 ms, total: 9.88 s\n",
            "Wall time: 9.94 s\n"
          ]
        }
      ]
    },
    {
      "cell_type": "code",
      "metadata": {
        "id": "e9zaAGo33OIT",
        "colab": {
          "base_uri": "https://localhost:8080/"
        },
        "outputId": "ccd359b9-ec97-4f00-f0fc-a58b110a5da4"
      },
      "source": [
        "%time _ = np.log(samp)"
      ],
      "execution_count": 46,
      "outputs": [
        {
          "output_type": "stream",
          "name": "stdout",
          "text": [
            "CPU times: user 17.4 ms, sys: 23.2 ms, total: 40.5 ms\n",
            "Wall time: 42.9 ms\n"
          ]
        }
      ]
    },
    {
      "cell_type": "markdown",
      "metadata": {
        "id": "Nm8YGbEiMKrR"
      },
      "source": [
        "## Exercise1"
      ]
    },
    {
      "cell_type": "markdown",
      "metadata": {
        "id": "EGLNwo2RNgsx"
      },
      "source": [
        "Q1. Create a vector with values ranging from 10 to 49 (ex. 10, 11, ... 49) \\\n"
      ]
    },
    {
      "cell_type": "code",
      "metadata": {
        "id": "nmTRRBk3QT4g"
      },
      "source": [
        "# write your code\n"
      ],
      "execution_count": null,
      "outputs": []
    },
    {
      "cell_type": "markdown",
      "metadata": {
        "id": "hANj1arSNqW2"
      },
      "source": [
        "Q2. Create a vector with values ranging from 49 to 10 (ex. 49, 48, ... 10)\\\n"
      ]
    },
    {
      "cell_type": "code",
      "metadata": {
        "id": "zliyCV3BQXBp"
      },
      "source": [
        "# write your code\n"
      ],
      "execution_count": null,
      "outputs": []
    },
    {
      "cell_type": "markdown",
      "metadata": {
        "id": "N_CIgUqLNqrb"
      },
      "source": [
        "Q3. Get the positions where elements of 'a' and 'b' match? (Hint: np.where)\\\n",
        "Input)\\\n",
        "a = np.array([1,2,3,2,3,4,3,4,5,6])\\\n",
        "b = np.array([7,2,10,2,7,4,9,4,9,8])\\\n",
        "Output\\\n",
        "=> array([1, 3, 5, 7])\n"
      ]
    },
    {
      "cell_type": "code",
      "source": [
        "a = np.array([1,2,3,2,3,4,3,4,5,6])\n",
        "b = np.array([7,2,10,2,7,4,9,4,9,8])"
      ],
      "metadata": {
        "id": "Abq9YfI2hpBp"
      },
      "execution_count": 47,
      "outputs": []
    },
    {
      "cell_type": "code",
      "metadata": {
        "id": "e_OuXEfAQXQa"
      },
      "source": [
        "a = np.array([1,2,3,2,3,4,3,4,5,6])\n",
        "b = np.array([7,2,10,2,7,4,9,4,9,8])\n",
        "# write your code\n"
      ],
      "execution_count": 48,
      "outputs": []
    },
    {
      "cell_type": "markdown",
      "metadata": {
        "id": "GyUc68uENq_l"
      },
      "source": [
        "Q4. Remove Negative values in the array ‘b’ (HARD, Hint: np.where)\\\n",
        "Input: a = np.array((3, -2, 2, -1, 3))\\\n",
        "Output:\\\n",
        "=> [3, 2, 3]"
      ]
    },
    {
      "cell_type": "code",
      "metadata": {
        "id": "C27bpDhIQYBm"
      },
      "source": [
        "a = np.array((3, -2, 2, -1, 3))\n",
        "# write your code\n"
      ],
      "execution_count": 49,
      "outputs": []
    },
    {
      "cell_type": "markdown",
      "metadata": {
        "id": "HCqkfBzs7gkK"
      },
      "source": [
        "# Pytorch Tutorial\n",
        "\n",
        "Refers heavily on\n",
        "https://github.com/cgpotts/cs224u/blob/master/tutorial_pytorch.ipynb"
      ]
    },
    {
      "cell_type": "code",
      "metadata": {
        "id": "8XyuVE1jlprF"
      },
      "source": [
        "import torch"
      ],
      "execution_count": 50,
      "outputs": []
    },
    {
      "cell_type": "markdown",
      "metadata": {
        "id": "-96WZDu4AYlY"
      },
      "source": [
        "## Tensors"
      ]
    },
    {
      "cell_type": "markdown",
      "metadata": {
        "id": "SZya2EQMAYlZ"
      },
      "source": [
        "### Tensor creation"
      ]
    },
    {
      "cell_type": "markdown",
      "metadata": {
        "id": "uHZHPUqHAYla"
      },
      "source": [
        "#### Calling the constructor"
      ]
    },
    {
      "cell_type": "code",
      "metadata": {
        "id": "0FnpV8u1AYlb",
        "colab": {
          "base_uri": "https://localhost:8080/"
        },
        "outputId": "c6af9a8c-00eb-4e82-caf6-2d8c4a57ce35"
      },
      "source": [
        "t = torch.FloatTensor(2, 3)\n",
        "print(t)\n",
        "print(t.size())"
      ],
      "execution_count": 53,
      "outputs": [
        {
          "output_type": "stream",
          "name": "stdout",
          "text": [
            "tensor([[0.0000e+00, 0.0000e+00, 0.0000e+00],\n",
            "        [0.0000e+00, 2.8026e-45, 7.0065e-45]])\n",
            "torch.Size([2, 3])\n"
          ]
        }
      ]
    },
    {
      "cell_type": "code",
      "metadata": {
        "id": "QOsBbJsLAYle",
        "colab": {
          "base_uri": "https://localhost:8080/"
        },
        "outputId": "2ad1e333-87cc-44a7-b825-b1c4ebcf87c8"
      },
      "source": [
        "# tensor를 0으로 초기화\n",
        "t.zero_()"
      ],
      "execution_count": 54,
      "outputs": [
        {
          "output_type": "execute_result",
          "data": {
            "text/plain": [
              "tensor([[0., 0., 0.],\n",
              "        [0., 0., 0.]])"
            ]
          },
          "metadata": {},
          "execution_count": 54
        }
      ]
    },
    {
      "cell_type": "code",
      "metadata": {
        "id": "dSRL60GsAYlh",
        "colab": {
          "base_uri": "https://localhost:8080/"
        },
        "outputId": "59708106-2b0b-4c3e-dbfa-9e00d6e0fe54"
      },
      "source": [
        "torch.FloatTensor([[1, 2, 3], [4, 5, 6]])"
      ],
      "execution_count": 55,
      "outputs": [
        {
          "output_type": "execute_result",
          "data": {
            "text/plain": [
              "tensor([[1., 2., 3.],\n",
              "        [4., 5., 6.]])"
            ]
          },
          "metadata": {},
          "execution_count": 55
        }
      ]
    },
    {
      "cell_type": "markdown",
      "metadata": {
        "id": "XCL_ipglAYlj"
      },
      "source": [
        "#### Calling a method in the torch module"
      ]
    },
    {
      "cell_type": "code",
      "metadata": {
        "id": "K8fRMb_kAYlj",
        "colab": {
          "base_uri": "https://localhost:8080/"
        },
        "outputId": "88b84c30-be82-472f-a19b-cab564a2081d"
      },
      "source": [
        "tl = torch.tensor([1, 2, 3])\n",
        "t = torch.tensor([1., 2., 3.])\n",
        "print(tl, tl.type()) # A 64-bit integer tensor:\n",
        "print(t, t.type()) # A 32-bit float tensor:"
      ],
      "execution_count": 56,
      "outputs": [
        {
          "output_type": "stream",
          "name": "stdout",
          "text": [
            "tensor([1, 2, 3]) torch.LongTensor\n",
            "tensor([1., 2., 3.]) torch.FloatTensor\n"
          ]
        }
      ]
    },
    {
      "cell_type": "code",
      "metadata": {
        "id": "9IAozG4qAYln",
        "colab": {
          "base_uri": "https://localhost:8080/"
        },
        "outputId": "6c579330-b169-4df2-8904-db02a045c01d"
      },
      "source": [
        "t = torch.zeros(2, 3)\n",
        "print(t)"
      ],
      "execution_count": 57,
      "outputs": [
        {
          "output_type": "stream",
          "name": "stdout",
          "text": [
            "tensor([[0., 0., 0.],\n",
            "        [0., 0., 0.]])\n"
          ]
        }
      ]
    },
    {
      "cell_type": "code",
      "source": [
        "torch.empty(2, 3)"
      ],
      "metadata": {
        "colab": {
          "base_uri": "https://localhost:8080/"
        },
        "id": "Tr5SMA5nDMd2",
        "outputId": "03b49338-63dc-4948-c23e-1df7586b25b6"
      },
      "execution_count": 58,
      "outputs": [
        {
          "output_type": "execute_result",
          "data": {
            "text/plain": [
              "tensor([[1.6841e-01, 3.1498e-41, 1.6840e-01],\n",
              "        [3.1498e-41, 8.9683e-44, 0.0000e+00]])"
            ]
          },
          "metadata": {},
          "execution_count": 58
        }
      ]
    },
    {
      "cell_type": "code",
      "metadata": {
        "id": "C9OonMUXAYlp",
        "colab": {
          "base_uri": "https://localhost:8080/"
        },
        "outputId": "c69b8b2f-3587-417d-af0d-e7bee0b0b5b5"
      },
      "source": [
        "t_zeros = torch.zeros_like(t)        # zeros_like returns a new tensor, t와 동일한 차원의 영행렬\n",
        "t_ones = torch.ones(2, 3)            # creates a tensor with 1s\n",
        "t_fives = torch.empty(2, 3).fill_(5) # creates a non-initialized tensor and fills it with 5\n",
        "t_random = torch.rand(2, 3)          # creates a uniform random tensor [0, 1]\n",
        "t_normal = torch.randn(2, 3)         # creates a normal random tensor\n",
        "\n",
        "print(t_zeros)\n",
        "print(t_ones)\n",
        "print(t_fives)\n",
        "print(t_random)\n",
        "print(t_normal)"
      ],
      "execution_count": 59,
      "outputs": [
        {
          "output_type": "stream",
          "name": "stdout",
          "text": [
            "tensor([[0., 0., 0.],\n",
            "        [0., 0., 0.]])\n",
            "tensor([[1., 1., 1.],\n",
            "        [1., 1., 1.]])\n",
            "tensor([[5., 5., 5.],\n",
            "        [5., 5., 5.]])\n",
            "tensor([[0.1235, 0.4150, 0.6133],\n",
            "        [0.9469, 0.8144, 0.3646]])\n",
            "tensor([[-1.0705, -0.1371,  0.7077],\n",
            "        [-0.6698,  0.6248,  1.3192]])\n"
          ]
        }
      ]
    },
    {
      "cell_type": "code",
      "metadata": {
        "id": "zA6phbBkAYls"
      },
      "source": [
        "# Tensor의 계산 그래프를 유지하는 복사본을 생성하기 / numpy: copy()\n",
        "# mutable\n",
        "\n",
        "t1 = torch.clone(t)\n",
        "assert id(t) != id(t1), 'Functional methods create a new copy of the tensor'\n",
        "\n",
        "# To create a new _independent_ copy, we do need to detach from the graph\n",
        "t1 = torch.clone(t).detach()"
      ],
      "execution_count": 60,
      "outputs": []
    },
    {
      "cell_type": "markdown",
      "metadata": {
        "id": "vdYHIc4oAYlu"
      },
      "source": [
        "#### Using the PyTorch–NumPy bridge"
      ]
    },
    {
      "cell_type": "code",
      "metadata": {
        "id": "GdYQObiOAYlv",
        "colab": {
          "base_uri": "https://localhost:8080/"
        },
        "outputId": "cbfa0155-b383-4edc-b5c9-dc6c8f7267e2"
      },
      "source": [
        "# Create a new multi-dimensional array in NumPy with the np datatype (np.float32)\n",
        "a = np.array([1., 2., 3.])\n",
        "\n",
        "# Convert the array to a torch tensor\n",
        "t = torch.tensor(a)\n",
        "\n",
        "# Convert torch tensor to array\n",
        "ta = t.numpy()\n",
        "\n",
        "print(\"NumPy array: {}, type: {}\".format(a, a.dtype))\n",
        "print(\"Torch tensor: {}, type: {}\".format(t, t.dtype))"
      ],
      "execution_count": 61,
      "outputs": [
        {
          "output_type": "stream",
          "name": "stdout",
          "text": [
            "NumPy array: [1. 2. 3.], type: float64\n",
            "Torch tensor: tensor([1., 2., 3.], dtype=torch.float64), type: torch.float64\n"
          ]
        }
      ]
    },
    {
      "cell_type": "code",
      "source": [
        "ta"
      ],
      "metadata": {
        "colab": {
          "base_uri": "https://localhost:8080/"
        },
        "id": "OUuJMRsPD5qz",
        "outputId": "3d05fa7e-89fa-47b5-c725-9a4b735e68e9"
      },
      "execution_count": 62,
      "outputs": [
        {
          "output_type": "execute_result",
          "data": {
            "text/plain": [
              "array([1., 2., 3.])"
            ]
          },
          "metadata": {},
          "execution_count": 62
        }
      ]
    },
    {
      "cell_type": "markdown",
      "metadata": {
        "id": "-FU0EJZGAYl0"
      },
      "source": [
        "#### Indexing"
      ]
    },
    {
      "cell_type": "code",
      "metadata": {
        "id": "mM9XNyXPAYl0",
        "colab": {
          "base_uri": "https://localhost:8080/"
        },
        "outputId": "fa9e5e88-bf3e-4363-e254-41845b4ba69a"
      },
      "source": [
        "t = torch.randn(2, 3)\n",
        "print(t)\n",
        "print(t[:, 0])"
      ],
      "execution_count": 63,
      "outputs": [
        {
          "output_type": "stream",
          "name": "stdout",
          "text": [
            "tensor([[ 0.7305,  0.8056, -0.4951],\n",
            "        [ 0.4563, -0.2234, -0.5938]])\n",
            "tensor([0.7305, 0.4563])\n"
          ]
        }
      ]
    },
    {
      "cell_type": "code",
      "metadata": {
        "scrolled": true,
        "id": "QeJ1tJwYAYl3",
        "colab": {
          "base_uri": "https://localhost:8080/"
        },
        "outputId": "2dbf2f40-15cb-47d5-de9f-5e486acbf2bd"
      },
      "source": [
        "t = torch.randn(5, 6)\n",
        "print(t)\n",
        "i = torch.tensor([1, 3])\n",
        "j = torch.tensor([4, 5])\n",
        "print(t[i])                          # selects rows 1 and 3\n",
        "print(t[i, j])                       # selects (1, 4) and (3, 5)"
      ],
      "execution_count": 64,
      "outputs": [
        {
          "output_type": "stream",
          "name": "stdout",
          "text": [
            "tensor([[ 0.6876, -0.6687,  1.5345, -0.4414,  0.8075, -0.5193],\n",
            "        [-0.9749, -0.6665,  0.1794,  0.3331, -0.9524,  0.2230],\n",
            "        [-0.2754,  0.6254, -0.4052, -1.2516, -0.7699,  1.9940],\n",
            "        [ 0.1920, -0.8439,  0.0874, -0.3298,  0.1834,  1.2843],\n",
            "        [-0.1380,  0.4035,  1.7869, -1.0125, -1.2520, -1.2014]])\n",
            "tensor([[-0.9749, -0.6665,  0.1794,  0.3331, -0.9524,  0.2230],\n",
            "        [ 0.1920, -0.8439,  0.0874, -0.3298,  0.1834,  1.2843]])\n",
            "tensor([-0.9524,  1.2843])\n"
          ]
        }
      ]
    },
    {
      "cell_type": "markdown",
      "metadata": {
        "id": "YSbnhX1LAYl7"
      },
      "source": [
        "### Operations on tensors"
      ]
    },
    {
      "cell_type": "code",
      "metadata": {
        "id": "8r2LsFEsAYl8",
        "colab": {
          "base_uri": "https://localhost:8080/"
        },
        "outputId": "852f45fe-9ae1-4d5a-b324-b4fa8157667b"
      },
      "source": [
        "# Scalars =: creates a tensor with a scalar\n",
        "# (0차원 tensor)\n",
        "s = torch.tensor(42)\n",
        "print(s)"
      ],
      "execution_count": 65,
      "outputs": [
        {
          "output_type": "stream",
          "name": "stdout",
          "text": [
            "tensor(42)\n"
          ]
        }
      ]
    },
    {
      "cell_type": "code",
      "metadata": {
        "id": "y4iC3kxtAYl-",
        "colab": {
          "base_uri": "https://localhost:8080/"
        },
        "outputId": "4a766054-1a6a-4da3-d81e-edbab8f9abef"
      },
      "source": [
        "# 0차원 tensor에만 적용 가능\n",
        "# 텐서 안의 값 반환\n",
        "s.item()"
      ],
      "execution_count": 66,
      "outputs": [
        {
          "output_type": "execute_result",
          "data": {
            "text/plain": [
              "42"
            ]
          },
          "metadata": {},
          "execution_count": 66
        }
      ]
    },
    {
      "cell_type": "markdown",
      "metadata": {
        "id": "HBuQ_A6UmcyF"
      },
      "source": [
        "#### Matrix operation"
      ]
    },
    {
      "cell_type": "code",
      "metadata": {
        "id": "IKH_s6c2AYmB",
        "colab": {
          "base_uri": "https://localhost:8080/"
        },
        "outputId": "da820451-d759-4fd7-a775-ddc8e578fce3"
      },
      "source": [
        "# Row vector\n",
        "x = torch.randn(1,3)\n",
        "print(\"Row vector\\n{}\\nwith size {}\".format(x, x.size()))\n",
        "\n",
        "# Column vector\n",
        "v = torch.randn(3,1)\n",
        "print(\"Column vector\\n{}\\nwith size {}\".format(v, v.size()))\n",
        "\n",
        "# Matrix\n",
        "A = torch.randn(3, 3)\n",
        "print(\"Matrix\\n{}\\nwith size {}\".format(A, A.size()))"
      ],
      "execution_count": 67,
      "outputs": [
        {
          "output_type": "stream",
          "name": "stdout",
          "text": [
            "Row vector\n",
            "tensor([[0.1038, 0.7286, 1.1220]])\n",
            "with size torch.Size([1, 3])\n",
            "Column vector\n",
            "tensor([[ 0.1979],\n",
            "        [-0.5058],\n",
            "        [-0.4263]])\n",
            "with size torch.Size([3, 1])\n",
            "Matrix\n",
            "tensor([[ 0.5902,  1.2842, -0.1936],\n",
            "        [ 1.1844,  0.2217, -1.5258],\n",
            "        [-0.2932, -1.6019, -2.1874]])\n",
            "with size torch.Size([3, 3])\n"
          ]
        }
      ]
    },
    {
      "cell_type": "code",
      "metadata": {
        "id": "79i3WKd6AYmE",
        "cellView": "code",
        "colab": {
          "base_uri": "https://localhost:8080/"
        },
        "outputId": "e4715a3d-264e-4230-d61d-dcb362c7890a"
      },
      "source": [
        "#@title\n",
        "u = torch.matmul(A, v)\n",
        "print(u, u.shape) # [3, 1]\n",
        "b = torch.randn(3, 1)\n",
        "y = u + b\n",
        "print(y)\n",
        "\n",
        "# or you can use torch.add()\n",
        "print(torch.add(u, b))"
      ],
      "execution_count": 68,
      "outputs": [
        {
          "output_type": "stream",
          "name": "stdout",
          "text": [
            "tensor([[-0.4503],\n",
            "        [ 0.7727],\n",
            "        [ 1.6849]]) torch.Size([3, 1])\n",
            "tensor([[ 0.2728],\n",
            "        [ 0.2016],\n",
            "        [-0.0322]])\n",
            "tensor([[ 0.2728],\n",
            "        [ 0.2016],\n",
            "        [-0.0322]])\n"
          ]
        }
      ]
    },
    {
      "cell_type": "code",
      "metadata": {
        "id": "eDKAVzG9AYmG",
        "colab": {
          "base_uri": "https://localhost:8080/"
        },
        "outputId": "ec413cf4-2a5c-4c43-fb88-6318441a42fb"
      },
      "source": [
        "# x.shape = (1, 3)\n",
        "# torch.matmul(A, v).shape = (3, 1)\n",
        "s = torch.matmul(x, torch.matmul(A, v))\n",
        "print(s.item())"
      ],
      "execution_count": 69,
      "outputs": [
        {
          "output_type": "stream",
          "name": "stdout",
          "text": [
            "2.4067206382751465\n"
          ]
        }
      ]
    },
    {
      "cell_type": "markdown",
      "metadata": {
        "id": "n3dEQPnImEyJ"
      },
      "source": [
        "#### Matmul vs. Mul"
      ]
    },
    {
      "cell_type": "code",
      "metadata": {
        "id": "LuOAptBvK2x_",
        "colab": {
          "base_uri": "https://localhost:8080/"
        },
        "outputId": "7f572308-3da0-4a74-cb2c-296a4e445ffd"
      },
      "source": [
        "# Mul: 행렬곱 (matrix multiplication)\n",
        "m1 = torch.FloatTensor([[1, 2], [3, 4]])\n",
        "m2 = torch.FloatTensor([[1], [2]])\n",
        "print('Shape of Matrix 1: ', m1.shape) # 2 x 2\n",
        "print('Shape of Matrix 2: ', m2.shape) # 2 x 1\n",
        "print(m1.matmul(m2)) # 2 x 1\n",
        "\n",
        "# Mul: 요소곱 (element-wise multiplication)\n",
        "m1 = torch.FloatTensor([[1, 2], [3, 4]])\n",
        "m2 = torch.FloatTensor([[1], [2]])\n",
        "print('Shape of Matrix 1: ', m1.shape) # 2 x 2\n",
        "print('Shape of Matrix 2: ', m2.shape) # 2 x 1\n",
        "print(m1 * m2) # 2 x 2\n",
        "print(m1.mul(m2))"
      ],
      "execution_count": 70,
      "outputs": [
        {
          "output_type": "stream",
          "name": "stdout",
          "text": [
            "Shape of Matrix 1:  torch.Size([2, 2])\n",
            "Shape of Matrix 2:  torch.Size([2, 1])\n",
            "tensor([[ 5.],\n",
            "        [11.]])\n",
            "Shape of Matrix 1:  torch.Size([2, 2])\n",
            "Shape of Matrix 2:  torch.Size([2, 1])\n",
            "tensor([[1., 2.],\n",
            "        [6., 8.]])\n",
            "tensor([[1., 2.],\n",
            "        [6., 8.]])\n"
          ]
        }
      ]
    },
    {
      "cell_type": "markdown",
      "metadata": {
        "id": "fDxw3yR3mlUM"
      },
      "source": [
        "#### others"
      ]
    },
    {
      "cell_type": "code",
      "metadata": {
        "id": "1yxDFGjWAYmI",
        "colab": {
          "base_uri": "https://localhost:8080/"
        },
        "outputId": "83758cc1-8511-4a7f-8c40-46419abd2c37"
      },
      "source": [
        "# common tensor methods (they also have the counterpart in\n",
        "# the torch package, e.g. as torch.sum(t))\n",
        "t = torch.randn(2,3)\n",
        "print(t)\n",
        "print(t.sum(dim=0))            # sum\n",
        "print(t.t())                   # transpose(전치)\n",
        "print(t.numel())               # number of elements in tensor\n",
        "print(t.nonzero())             # indices of non-zero elements\n",
        "\n",
        "# operations in the package\n",
        "torch.arange(0, 10)     # tensor([0, 1, 2, 3, 4, 5, 6, 7, 8, 9])\n",
        "torch.eye(3, 3)         # creates a 3x3 matrix with 1s in the diagonal (identity in this case)\n",
        "t = torch.arange(0, 3)"
      ],
      "execution_count": 71,
      "outputs": [
        {
          "output_type": "stream",
          "name": "stdout",
          "text": [
            "tensor([[ 0.2663,  0.3684, -0.2396],\n",
            "        [ 2.8166,  0.4801, -1.0413]])\n",
            "tensor([ 3.0829,  0.8484, -1.2809])\n",
            "tensor([[ 0.2663,  2.8166],\n",
            "        [ 0.3684,  0.4801],\n",
            "        [-0.2396, -1.0413]])\n",
            "6\n",
            "tensor([[0, 0],\n",
            "        [0, 1],\n",
            "        [0, 2],\n",
            "        [1, 0],\n",
            "        [1, 1],\n",
            "        [1, 2]])\n"
          ]
        }
      ]
    },
    {
      "cell_type": "code",
      "source": [
        "torch.eye(3, 3)"
      ],
      "metadata": {
        "colab": {
          "base_uri": "https://localhost:8080/"
        },
        "id": "rMOOkH6PFWzW",
        "outputId": "607c9cff-9d35-40fb-b0a4-2f9887d2e925"
      },
      "execution_count": 72,
      "outputs": [
        {
          "output_type": "execute_result",
          "data": {
            "text/plain": [
              "tensor([[1., 0., 0.],\n",
              "        [0., 1., 0.],\n",
              "        [0., 0., 1.]])"
            ]
          },
          "metadata": {},
          "execution_count": 72
        }
      ]
    },
    {
      "cell_type": "markdown",
      "metadata": {
        "id": "CAg-ZLqmC2Zx"
      },
      "source": [
        "### Reshaping (view)"
      ]
    },
    {
      "cell_type": "code",
      "source": [
        "t = np.arange(12)"
      ],
      "metadata": {
        "id": "lpAySCsuFgo2"
      },
      "execution_count": 73,
      "outputs": []
    },
    {
      "cell_type": "code",
      "source": [
        "t"
      ],
      "metadata": {
        "colab": {
          "base_uri": "https://localhost:8080/"
        },
        "id": "E6yEG_0MFifO",
        "outputId": "750d49a9-2eb6-4cc8-fe79-30863d616736"
      },
      "execution_count": 74,
      "outputs": [
        {
          "output_type": "execute_result",
          "data": {
            "text/plain": [
              "array([ 0,  1,  2,  3,  4,  5,  6,  7,  8,  9, 10, 11])"
            ]
          },
          "metadata": {},
          "execution_count": 74
        }
      ]
    },
    {
      "cell_type": "code",
      "metadata": {
        "id": "Af0q0DLQC9R5",
        "cellView": "code",
        "colab": {
          "base_uri": "https://localhost:8080/"
        },
        "outputId": "41936ca4-aadf-4501-8de7-6b52fc6e77f5"
      },
      "source": [
        "import torch\n",
        "import numpy as np\n",
        "# -1을 사용하면 해당 dimension을 모양에 맞게 채워줍니다.\n",
        "\n",
        "t = np.arange(12).reshape(-1, 2, 3)\n",
        "\n",
        "t.shape   # 2 = 12/(2*3)"
      ],
      "execution_count": 75,
      "outputs": [
        {
          "output_type": "execute_result",
          "data": {
            "text/plain": [
              "(2, 2, 3)"
            ]
          },
          "metadata": {},
          "execution_count": 75
        }
      ]
    },
    {
      "cell_type": "code",
      "metadata": {
        "id": "RduHorQCEjQp",
        "cellView": "code",
        "colab": {
          "base_uri": "https://localhost:8080/"
        },
        "outputId": "283b0ece-0c34-41a3-b70a-06e14f61bedb"
      },
      "source": [
        "#@title\n",
        "floatt = torch.FloatTensor(t)\n",
        "floatt.shape"
      ],
      "execution_count": 76,
      "outputs": [
        {
          "output_type": "execute_result",
          "data": {
            "text/plain": [
              "torch.Size([2, 2, 3])"
            ]
          },
          "metadata": {},
          "execution_count": 76
        }
      ]
    },
    {
      "cell_type": "code",
      "metadata": {
        "id": "jfdnq_tjG7TB",
        "cellView": "code",
        "colab": {
          "base_uri": "https://localhost:8080/"
        },
        "outputId": "a3dac8e5-47ce-4358-98ae-317ebbc27dc1"
      },
      "source": [
        "#@title\n",
        "# 4 = 12/3\n",
        "floatt.view([-1, 3]).shape"
      ],
      "execution_count": 77,
      "outputs": [
        {
          "output_type": "execute_result",
          "data": {
            "text/plain": [
              "torch.Size([4, 3])"
            ]
          },
          "metadata": {},
          "execution_count": 77
        }
      ]
    },
    {
      "cell_type": "markdown",
      "metadata": {
        "id": "966aocEsl9yR"
      },
      "source": [
        "more techniques"
      ]
    },
    {
      "cell_type": "code",
      "metadata": {
        "id": "RRhU0asaKMak",
        "cellView": "code",
        "colab": {
          "base_uri": "https://localhost:8080/"
        },
        "outputId": "b25fd88e-7dbf-421c-dc8c-3efb9f2d2c4e"
      },
      "source": [
        "#@title\n",
        "# .flatten(): tensor를 1차원으로 평면화\n",
        "flattened = floatt.flatten()\n",
        "print(flattened)\n",
        "print(flattened.shape)"
      ],
      "execution_count": 78,
      "outputs": [
        {
          "output_type": "stream",
          "name": "stdout",
          "text": [
            "tensor([ 0.,  1.,  2.,  3.,  4.,  5.,  6.,  7.,  8.,  9., 10., 11.])\n",
            "torch.Size([12])\n"
          ]
        }
      ]
    },
    {
      "cell_type": "code",
      "metadata": {
        "id": "ZyfYf1LXKFV-",
        "colab": {
          "base_uri": "https://localhost:8080/"
        },
        "outputId": "9e4fe7e8-75d2-44c8-d995-8e279aa6775a"
      },
      "source": [
        "t = torch.randn(2,3)\n",
        "t.flatten()"
      ],
      "execution_count": 79,
      "outputs": [
        {
          "output_type": "execute_result",
          "data": {
            "text/plain": [
              "tensor([ 1.7136,  0.6523, -0.0141,  1.1392, -0.2636,  0.6139])"
            ]
          },
          "metadata": {},
          "execution_count": 79
        }
      ]
    },
    {
      "cell_type": "code",
      "metadata": {
        "id": "8VnIvepAl8Ut",
        "cellView": "code"
      },
      "source": [
        "#@title\n",
        "t = torch.tensor(np.arange(6))"
      ],
      "execution_count": 80,
      "outputs": []
    },
    {
      "cell_type": "code",
      "source": [
        "t = torch.randn(2,3)\n",
        "print(t)\n",
        "print(t.shape)\n",
        "print(t.unsqueeze(1))\n",
        "print(t.unsqueeze(1).shape)"
      ],
      "metadata": {
        "colab": {
          "base_uri": "https://localhost:8080/"
        },
        "id": "MNrgjKriGBr7",
        "outputId": "f406fa99-45d8-49a8-df70-f7fd15deb82b"
      },
      "execution_count": 81,
      "outputs": [
        {
          "output_type": "stream",
          "name": "stdout",
          "text": [
            "tensor([[-0.1417,  0.4489, -0.6484],\n",
            "        [-0.5190, -0.2444,  1.8244]])\n",
            "torch.Size([2, 3])\n",
            "tensor([[[-0.1417,  0.4489, -0.6484]],\n",
            "\n",
            "        [[-0.5190, -0.2444,  1.8244]]])\n",
            "torch.Size([2, 1, 3])\n"
          ]
        }
      ]
    },
    {
      "cell_type": "code",
      "metadata": {
        "id": "zOXwwLv2J9fP",
        "cellView": "code",
        "colab": {
          "base_uri": "https://localhost:8080/"
        },
        "outputId": "9ab46116-a82b-4418-a0aa-78e60d5af2bb"
      },
      "source": [
        "#@title\n",
        "print(t)\n",
        "print(t.view(-1, 2))            # 텐서를 선택한 차원으로 재배열\n",
        "\n",
        "# unsqueeze\n",
        "print(t.unsqueeze(1))           # 선택한 위치에 차원 추가\n",
        "print(t.unsqueeze(1).squeeze()) # size 1인 차원을 모두 제거\n",
        "\n",
        "print(torch.cat((t, t)).shape)      # tensor([0, 1, 2, 0, 1, 2])\n",
        "print(torch.stack((t, t)).shape)      # tensor([[0, 1, 2], [0, 1, 2]])"
      ],
      "execution_count": 82,
      "outputs": [
        {
          "output_type": "stream",
          "name": "stdout",
          "text": [
            "tensor([[-0.1417,  0.4489, -0.6484],\n",
            "        [-0.5190, -0.2444,  1.8244]])\n",
            "tensor([[-0.1417,  0.4489],\n",
            "        [-0.6484, -0.5190],\n",
            "        [-0.2444,  1.8244]])\n",
            "tensor([[[-0.1417,  0.4489, -0.6484]],\n",
            "\n",
            "        [[-0.5190, -0.2444,  1.8244]]])\n",
            "tensor([[-0.1417,  0.4489, -0.6484],\n",
            "        [-0.5190, -0.2444,  1.8244]])\n",
            "torch.Size([4, 3])\n",
            "torch.Size([2, 2, 3])\n"
          ]
        }
      ]
    },
    {
      "cell_type": "markdown",
      "metadata": {
        "id": "0auDroqFHKnk"
      },
      "source": [
        "## Exercise2\n",
        "\n",
        "**Restriction**\n",
        "- Pytorch Tensor로 먼저 변환하십시오.\n",
        "- Numpy가 아닌 Pytorch tensor 메소드만 사용하십시오.\n"
      ]
    },
    {
      "cell_type": "markdown",
      "metadata": {
        "id": "saS6ZRbTHSd4"
      },
      "source": [
        "Q1. Using reshaping and indexing, print out as follows:\n",
        "\n",
        "Goal : \\\n",
        "`torch.Size([2, 2, 6]) \\\n",
        "tensor([18., 19., 20., 21.])`\n",
        "\n",
        "\n",
        "\n"
      ]
    },
    {
      "cell_type": "code",
      "metadata": {
        "id": "vH5b9cpXG_vF"
      },
      "source": [
        "t = np.arange(24)\n",
        "### write your code (Hint : keep printing the shape and result so that you can see!)\n"
      ],
      "execution_count": 83,
      "outputs": []
    },
    {
      "cell_type": "markdown",
      "metadata": {
        "id": "huiUbyWbW_Zu"
      },
      "source": [
        "Q2. Add 1 to tensor A (Hint: Broadcast)\\\n",
        "Input: a = np.arange(9).reshape(3, 3)\\\n",
        "Output: \\\n",
        "\n",
        "\n",
        "```\n",
        "tensor([[1, 2, 3],\n",
        "        [4, 5, 6],\n",
        "        [7, 8, 9]])\n",
        "```\n",
        "\n",
        "\n",
        "\n"
      ]
    },
    {
      "cell_type": "code",
      "source": [
        " a = np.arange(9).reshape(3, 3)"
      ],
      "metadata": {
        "id": "m0qxOl8PJvKm"
      },
      "execution_count": 84,
      "outputs": []
    },
    {
      "cell_type": "markdown",
      "metadata": {
        "id": "vcCKYJUSW_Zw"
      },
      "source": [
        "\n",
        "Q3. Swap rows 1 and 2 in the array 'a’ at Q2(HARD)\n",
        "\n",
        "![image.png](data:image/png;base64,iVBORw0KGgoAAAANSUhEUgAAAG8AAABKCAIAAAA6xp2yAAAD20lEQVR4Ae2b0XbjMAhE8/8/nZ5WLqWCGSEbW05Cn+iA0HDNpt6e3cezvvIIPPJaVadn0cxcgqJZNDMJZPaq3bwTzcfvlzX1m7nvA0t3eHTUxwN2ICmLfqGS6BOyCI5HrPBU24vgLbosflBWTwe6VYuJT1vMlQU0tXsdc6OSnaIpp0iwwwPqdjVNa90qyOvz+WzFwSO5ZcSVpIrm9oSEyJHgaprWa3CDZDF1YLtpRRaZfzjEDejmbryY5tQkUiyBO5KIHUR0CunSJx6soSk/ZCeMqlex4Py2zCrxTY9YXUNTnLnjSVYHulLHumYYuwddcdjKLVhMM7ga3cDdt+5grugedEX3+FC8mqa1bhVrWj4ZusBWasV2tkrwceq2JH4Nmt0ALpSuxsXkHnRF2y2iXE2zG3LfJPFTulLHGg3SdU0wXkCzAe1eX4J2W9nU/PLhgK6Y6oaabMZ4epglVkhq2PbKgkSfCbuJtmy4FFcic+9Kd3iUpuvyY8Wimfnoi2bRzCSQ2evE3Uz/jM+c+6dXusNzaabPf0bDG70hkfGIy91LQXoiJ8O7dvSEd6HEcR251LqOIzceqUdnkR7x09Us+JOu3eu4c9Z9O1yxrr77hUDLute5ou0WUa6maa1bhfg+WOwed0XigaTemaYd2wXnivZsRPkgmoga0iP4uppPoUmQkVQHa/jt+9NsP74IiKJJ4PxLRUhFav41xd+8824GMQXLMMO/zNU0u9fA2Umm6oPFwbI/Zjgqmnf6V134OTGXO/5i0y6a2iO5RQfW8FRPe1wrC3ZTX3+H+GVoDt9O1tKUnc2yceJuZll8oT5FM/NhFc2imUkgs9eJu5n+GZ85908v4pCkiI1zaZKL75Mib0gk5fpfQ3P2yUu9Dtx5rChHbKopBBlJud0W0NQWdez6Q2LwoC7TsW6L9O5XCvoIiq+maa1bBXkVPXjEllmFI3PrxYYN1tO0nrgSn9BWWqVoTmyAxqdj/cCQzkHrDhJPOJMzwcB12cThTwZ0hdsTFTd9eBfpSVLupQtoaos6dv114pF6dBbpL7ObmhEZRpe1+GCxe9wVd1z3Td86zlJcl1a0CjIQr0Qs3A6uiDogb1s9Tx/Jui6taBV0abxym039R1ek8D/O0zci68d114oVrYKujlcidm4HV0QdkLetnqePZJFLret4eNdU8TaeWk90HOl8bV23V39uypDtxcX1hEQyNjrSiPC7SFuScm9cQ9O1skokyEjKdXsuTb4UrqErRfJiT1LE4Yk0ya3vmiqamU+2aBbNTAKZvWo3i2YmgcxetZtFM5NAZq/azUyaXwA4RLv0pRloAAAAAElFTkSuQmCC)\n"
      ]
    },
    {
      "cell_type": "code",
      "metadata": {
        "id": "uidsA9FaW_Zw"
      },
      "source": [
        "a = np.arange(9).reshape(3, 3)\n",
        "# write your code\n"
      ],
      "execution_count": 85,
      "outputs": []
    },
    {
      "cell_type": "code",
      "source": [],
      "metadata": {
        "id": "qpnPzaLyROy3"
      },
      "execution_count": 85,
      "outputs": []
    }
  ]
}